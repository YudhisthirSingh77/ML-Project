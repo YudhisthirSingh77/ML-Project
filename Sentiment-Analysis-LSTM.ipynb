{
 "cells": [
  {
   "cell_type": "code",
   "execution_count": 131,
   "id": "fe88954f-9141-4373-83e1-6131dc33ae3e",
   "metadata": {},
   "outputs": [],
   "source": [
    "# Importing the Essential Libraries, Metrics\n",
    "\n",
    "import pandas as pd\n",
    "import numpy as np\n",
    "import matplotlib.pyplot as plt\n",
    "import seaborn as sns\n",
    "\n",
    "import string\n",
    "import warnings\n",
    "warnings.filterwarnings('ignore')"
   ]
  },
  {
   "cell_type": "markdown",
   "id": "cd4f2575-a30d-4116-a4d9-df3be81a2a87",
   "metadata": {},
   "source": [
    "# Read and Understand data"
   ]
  },
  {
   "cell_type": "code",
   "execution_count": 132,
   "id": "7aea8156-e80f-4e79-8bef-fd5ec2eb6d3d",
   "metadata": {},
   "outputs": [
    {
     "data": {
      "text/html": [
       "<div>\n",
       "<style scoped>\n",
       "    .dataframe tbody tr th:only-of-type {\n",
       "        vertical-align: middle;\n",
       "    }\n",
       "\n",
       "    .dataframe tbody tr th {\n",
       "        vertical-align: top;\n",
       "    }\n",
       "\n",
       "    .dataframe thead th {\n",
       "        text-align: right;\n",
       "    }\n",
       "</style>\n",
       "<table border=\"1\" class=\"dataframe\">\n",
       "  <thead>\n",
       "    <tr style=\"text-align: right;\">\n",
       "      <th></th>\n",
       "      <th>0</th>\n",
       "      <th>1</th>\n",
       "      <th>2</th>\n",
       "      <th>3</th>\n",
       "      <th>4</th>\n",
       "      <th>5</th>\n",
       "    </tr>\n",
       "  </thead>\n",
       "  <tbody>\n",
       "    <tr>\n",
       "      <th>0</th>\n",
       "      <td>0</td>\n",
       "      <td>1467810369</td>\n",
       "      <td>Mon Apr 06 22:19:45 PDT 2009</td>\n",
       "      <td>NO_QUERY</td>\n",
       "      <td>_TheSpecialOne_</td>\n",
       "      <td>@switchfoot http://twitpic.com/2y1zl - Awww, t...</td>\n",
       "    </tr>\n",
       "    <tr>\n",
       "      <th>1</th>\n",
       "      <td>0</td>\n",
       "      <td>1467810672</td>\n",
       "      <td>Mon Apr 06 22:19:49 PDT 2009</td>\n",
       "      <td>NO_QUERY</td>\n",
       "      <td>scotthamilton</td>\n",
       "      <td>is upset that he can't update his Facebook by ...</td>\n",
       "    </tr>\n",
       "    <tr>\n",
       "      <th>2</th>\n",
       "      <td>0</td>\n",
       "      <td>1467810917</td>\n",
       "      <td>Mon Apr 06 22:19:53 PDT 2009</td>\n",
       "      <td>NO_QUERY</td>\n",
       "      <td>mattycus</td>\n",
       "      <td>@Kenichan I dived many times for the ball. Man...</td>\n",
       "    </tr>\n",
       "    <tr>\n",
       "      <th>3</th>\n",
       "      <td>0</td>\n",
       "      <td>1467811184</td>\n",
       "      <td>Mon Apr 06 22:19:57 PDT 2009</td>\n",
       "      <td>NO_QUERY</td>\n",
       "      <td>ElleCTF</td>\n",
       "      <td>my whole body feels itchy and like its on fire</td>\n",
       "    </tr>\n",
       "    <tr>\n",
       "      <th>4</th>\n",
       "      <td>0</td>\n",
       "      <td>1467811193</td>\n",
       "      <td>Mon Apr 06 22:19:57 PDT 2009</td>\n",
       "      <td>NO_QUERY</td>\n",
       "      <td>Karoli</td>\n",
       "      <td>@nationwideclass no, it's not behaving at all....</td>\n",
       "    </tr>\n",
       "  </tbody>\n",
       "</table>\n",
       "</div>"
      ],
      "text/plain": [
       "   0           1                             2         3                4  \\\n",
       "0  0  1467810369  Mon Apr 06 22:19:45 PDT 2009  NO_QUERY  _TheSpecialOne_   \n",
       "1  0  1467810672  Mon Apr 06 22:19:49 PDT 2009  NO_QUERY    scotthamilton   \n",
       "2  0  1467810917  Mon Apr 06 22:19:53 PDT 2009  NO_QUERY         mattycus   \n",
       "3  0  1467811184  Mon Apr 06 22:19:57 PDT 2009  NO_QUERY          ElleCTF   \n",
       "4  0  1467811193  Mon Apr 06 22:19:57 PDT 2009  NO_QUERY           Karoli   \n",
       "\n",
       "                                                   5  \n",
       "0  @switchfoot http://twitpic.com/2y1zl - Awww, t...  \n",
       "1  is upset that he can't update his Facebook by ...  \n",
       "2  @Kenichan I dived many times for the ball. Man...  \n",
       "3    my whole body feels itchy and like its on fire   \n",
       "4  @nationwideclass no, it's not behaving at all....  "
      ]
     },
     "execution_count": 132,
     "metadata": {},
     "output_type": "execute_result"
    }
   ],
   "source": [
    "train_data = pd.read_csv('training.1600000.processed.noemoticon.csv',encoding='latin',header=None)\n",
    "train_data.head()"
   ]
  },
  {
   "cell_type": "code",
   "execution_count": 133,
   "id": "e623e1dc-3634-4895-bc06-e0d69bcf5ad0",
   "metadata": {},
   "outputs": [],
   "source": [
    "train_data = train_data.rename(columns={0:'target',1:'id',2:'date',3:'query',4:'username',5:'content'})"
   ]
  },
  {
   "cell_type": "code",
   "execution_count": 134,
   "id": "6cf8d704-6dc0-4cc5-8ee3-f34749ba812b",
   "metadata": {},
   "outputs": [
    {
     "name": "stdout",
     "output_type": "stream",
     "text": [
      "<class 'pandas.core.frame.DataFrame'>\n",
      "RangeIndex: 1600000 entries, 0 to 1599999\n",
      "Data columns (total 6 columns):\n",
      " #   Column    Non-Null Count    Dtype \n",
      "---  ------    --------------    ----- \n",
      " 0   target    1600000 non-null  int64 \n",
      " 1   id        1600000 non-null  int64 \n",
      " 2   date      1600000 non-null  object\n",
      " 3   query     1600000 non-null  object\n",
      " 4   username  1600000 non-null  object\n",
      " 5   content   1600000 non-null  object\n",
      "dtypes: int64(2), object(4)\n",
      "memory usage: 73.2+ MB\n"
     ]
    }
   ],
   "source": [
    "train_data.info()"
   ]
  },
  {
   "cell_type": "code",
   "execution_count": 135,
   "id": "2c69deae-7329-4e95-9552-a4aa9a79bdb9",
   "metadata": {},
   "outputs": [
    {
     "data": {
      "text/html": [
       "<div>\n",
       "<style scoped>\n",
       "    .dataframe tbody tr th:only-of-type {\n",
       "        vertical-align: middle;\n",
       "    }\n",
       "\n",
       "    .dataframe tbody tr th {\n",
       "        vertical-align: top;\n",
       "    }\n",
       "\n",
       "    .dataframe thead th {\n",
       "        text-align: right;\n",
       "    }\n",
       "</style>\n",
       "<table border=\"1\" class=\"dataframe\">\n",
       "  <thead>\n",
       "    <tr style=\"text-align: right;\">\n",
       "      <th></th>\n",
       "      <th>target</th>\n",
       "      <th>id</th>\n",
       "    </tr>\n",
       "  </thead>\n",
       "  <tbody>\n",
       "    <tr>\n",
       "      <th>count</th>\n",
       "      <td>1.600000e+06</td>\n",
       "      <td>1.600000e+06</td>\n",
       "    </tr>\n",
       "    <tr>\n",
       "      <th>mean</th>\n",
       "      <td>2.000000e+00</td>\n",
       "      <td>1.998818e+09</td>\n",
       "    </tr>\n",
       "    <tr>\n",
       "      <th>std</th>\n",
       "      <td>2.000001e+00</td>\n",
       "      <td>1.935761e+08</td>\n",
       "    </tr>\n",
       "    <tr>\n",
       "      <th>min</th>\n",
       "      <td>0.000000e+00</td>\n",
       "      <td>1.467810e+09</td>\n",
       "    </tr>\n",
       "    <tr>\n",
       "      <th>25%</th>\n",
       "      <td>0.000000e+00</td>\n",
       "      <td>1.956916e+09</td>\n",
       "    </tr>\n",
       "    <tr>\n",
       "      <th>50%</th>\n",
       "      <td>2.000000e+00</td>\n",
       "      <td>2.002102e+09</td>\n",
       "    </tr>\n",
       "    <tr>\n",
       "      <th>75%</th>\n",
       "      <td>4.000000e+00</td>\n",
       "      <td>2.177059e+09</td>\n",
       "    </tr>\n",
       "    <tr>\n",
       "      <th>max</th>\n",
       "      <td>4.000000e+00</td>\n",
       "      <td>2.329206e+09</td>\n",
       "    </tr>\n",
       "  </tbody>\n",
       "</table>\n",
       "</div>"
      ],
      "text/plain": [
       "             target            id\n",
       "count  1.600000e+06  1.600000e+06\n",
       "mean   2.000000e+00  1.998818e+09\n",
       "std    2.000001e+00  1.935761e+08\n",
       "min    0.000000e+00  1.467810e+09\n",
       "25%    0.000000e+00  1.956916e+09\n",
       "50%    2.000000e+00  2.002102e+09\n",
       "75%    4.000000e+00  2.177059e+09\n",
       "max    4.000000e+00  2.329206e+09"
      ]
     },
     "execution_count": 135,
     "metadata": {},
     "output_type": "execute_result"
    }
   ],
   "source": [
    "train_data.describe()"
   ]
  },
  {
   "cell_type": "markdown",
   "id": "2d058973-40c6-4445-82e2-b23016abb3a4",
   "metadata": {},
   "source": [
    "# Visualize missing values"
   ]
  },
  {
   "cell_type": "code",
   "execution_count": 136,
   "id": "01676355-a245-420a-b463-9b4b4682d969",
   "metadata": {},
   "outputs": [
    {
     "data": {
      "text/plain": [
       "target      0\n",
       "id          0\n",
       "date        0\n",
       "query       0\n",
       "username    0\n",
       "content     0\n",
       "dtype: int64"
      ]
     },
     "execution_count": 136,
     "metadata": {},
     "output_type": "execute_result"
    }
   ],
   "source": [
    "train_data.isnull().sum()"
   ]
  },
  {
   "cell_type": "code",
   "execution_count": 137,
   "id": "310961d9-e5de-4118-b22a-251fd05e675d",
   "metadata": {},
   "outputs": [
    {
     "data": {
      "text/plain": [
       "0"
      ]
     },
     "execution_count": 137,
     "metadata": {},
     "output_type": "execute_result"
    }
   ],
   "source": [
    "train_data.duplicated().sum()"
   ]
  },
  {
   "cell_type": "code",
   "execution_count": 138,
   "id": "1a74e4c5-02b0-46d3-a798-b888ea76dafe",
   "metadata": {},
   "outputs": [
    {
     "data": {
      "text/plain": [
       "target            2\n",
       "id          1598315\n",
       "date         774363\n",
       "query             1\n",
       "username     659775\n",
       "content     1581466\n",
       "dtype: int64"
      ]
     },
     "execution_count": 138,
     "metadata": {},
     "output_type": "execute_result"
    }
   ],
   "source": [
    "train_data.nunique()"
   ]
  },
  {
   "cell_type": "code",
   "execution_count": 139,
   "id": "8faa2819-3050-44fd-8f42-1aff69ed76c3",
   "metadata": {},
   "outputs": [
    {
     "data": {
      "text/plain": [
       "0    @switchfoot http://twitpic.com/2y1zl - Awww, t...\n",
       "1    is upset that he can't update his Facebook by ...\n",
       "2    @Kenichan I dived many times for the ball. Man...\n",
       "3      my whole body feels itchy and like its on fire \n",
       "4    @nationwideclass no, it's not behaving at all....\n",
       "Name: content, dtype: object"
      ]
     },
     "execution_count": 139,
     "metadata": {},
     "output_type": "execute_result"
    }
   ],
   "source": [
    "train_data[train_data['target']==0]['content'].head()"
   ]
  },
  {
   "cell_type": "code",
   "execution_count": 140,
   "id": "3588335b-46fb-4c48-99c4-85c5cf0657f1",
   "metadata": {},
   "outputs": [
    {
     "data": {
      "text/plain": [
       "800000         I LOVE @Health4UandPets u guys r the best!! \n",
       "800001    im meeting up with one of my besties tonight! ...\n",
       "800002    @DaRealSunisaKim Thanks for the Twitter add, S...\n",
       "800003    Being sick can be really cheap when it hurts t...\n",
       "800004      @LovesBrooklyn2 he has that effect on everyone \n",
       "Name: content, dtype: object"
      ]
     },
     "execution_count": 140,
     "metadata": {},
     "output_type": "execute_result"
    }
   ],
   "source": [
    "train_data[train_data['target']==4]['content'].head()"
   ]
  },
  {
   "cell_type": "code",
   "execution_count": 141,
   "id": "1c6fc3f9-27ca-45d3-b0d4-ef1b551d1a38",
   "metadata": {},
   "outputs": [],
   "source": [
    "train_data['target'] = train_data['target'].replace([0,4],['Negative','Positive'])"
   ]
  },
  {
   "cell_type": "code",
   "execution_count": 37,
   "id": "f6c0bb8e-9ba5-44cf-a57d-072e7cffb05c",
   "metadata": {},
   "outputs": [
    {
     "data": {
      "image/png": "[encoded data removed]",
      "text/plain": [
       "<Figure size 720x576 with 1 Axes>"
      ]
     },
     "metadata": {},
     "output_type": "display_data"
    }
   ],
   "source": [
    "figure = plt.figure(figsize=(12,8))\n",
    "targets = train_data.groupby('target').size()\n",
    "targets.plot(kind='pie',  figsize=(10, 8), autopct = \"%.2f%%\" )\n",
    "plt.title(\"Pie chart of different classes of tweets\",fontsize=16)\n",
    "plt.ylabel(\"\")\n",
    "plt.legend()\n",
    "plt.show()"
   ]
  },
  {
   "cell_type": "code",
   "execution_count": 142,
   "id": "22b921f7-3083-4f7b-af88-2abac838b95e",
   "metadata": {},
   "outputs": [],
   "source": [
    "train_data['length'] = train_data.content.str.split().apply(len)"
   ]
  },
  {
   "cell_type": "code",
   "execution_count": 143,
   "id": "80158c8c-65e9-485e-82d2-1c3b9fa36cd2",
   "metadata": {},
   "outputs": [
    {
     "data": {
      "text/plain": [
       "0          19\n",
       "1          21\n",
       "2          18\n",
       "3          10\n",
       "4          21\n",
       "           ..\n",
       "1599995    11\n",
       "1599996    11\n",
       "1599997    11\n",
       "1599998    12\n",
       "1599999     5\n",
       "Name: length, Length: 1600000, dtype: int64"
      ]
     },
     "execution_count": 143,
     "metadata": {},
     "output_type": "execute_result"
    }
   ],
   "source": [
    "train_data['length']"
   ]
  },
  {
   "cell_type": "code",
   "execution_count": 51,
   "id": "5e715688-1f5d-4dee-ad3c-197f5c6937d5",
   "metadata": {},
   "outputs": [
    {
     "data": {
      "text/plain": [
       "Text(0.5, 0.98, 'Distribution of text length for positive sentiment tweets.')"
      ]
     },
     "execution_count": 51,
     "metadata": {},
     "output_type": "execute_result"
    },
    {
     "data": {
      "image/png": "[encoded data removed]",
      "text/plain": [
       "<Figure size 1008x576 with 2 Axes>"
      ]
     },
     "metadata": {
      "needs_background": "light"
     },
     "output_type": "display_data"
    }
   ],
   "source": [
    "fig = plt.figure(figsize=(14,8))\n",
    "\n",
    "\n",
    "\n",
    "ax2 = fig.add_subplot(122)\n",
    "sns.distplot(train_data[train_data['target']=='Positive']['length'], ax=ax2,color='green')\n",
    "describe = train_data.length[train_data.target=='Positive'].describe().to_frame().round(2)\n",
    "\n",
    "\n",
    "\n",
    "\n",
    "ax1 = fig.add_subplot(121)\n",
    "ax1.axis('off')\n",
    "font_size = 14\n",
    "bbox = [0, 0, 1, 1]\n",
    "\n",
    "table = ax1.table(cellText = describe.values, rowLabels = describe.index,  bbox=bbox, colLabels=describe.columns )\n",
    "table.set_fontsize(font_size)\n",
    "fig.suptitle('Distribution of text length for positive sentiment tweets.', fontsize=16)\n",
    "\n",
    "plt.show()"
   ]
  },
  {
   "cell_type": "markdown",
   "id": "577d482b-d320-40f4-aa0a-6ef49f92739e",
   "metadata": {},
   "source": [
    "# drop columns"
   ]
  },
  {
   "cell_type": "code",
   "execution_count": 144,
   "id": "2d847f62-fd6b-4c05-8baa-45a5a14cd23e",
   "metadata": {},
   "outputs": [],
   "source": [
    "train_data.drop(['id','date','query','username','length'], axis=1, inplace=True)"
   ]
  },
  {
   "cell_type": "code",
   "execution_count": 145,
   "id": "3eee9cc8-f2f0-4168-83a5-0ce43fb9fb5e",
   "metadata": {},
   "outputs": [],
   "source": [
    "train_data['target'] = train_data['target'].replace(['Negative','Positive'],[0,1])"
   ]
  },
  {
   "cell_type": "code",
   "execution_count": 146,
   "id": "6a7b9456-eb58-4e81-aa84-385201bee603",
   "metadata": {},
   "outputs": [
    {
     "data": {
      "text/html": [
       "<div>\n",
       "<style scoped>\n",
       "    .dataframe tbody tr th:only-of-type {\n",
       "        vertical-align: middle;\n",
       "    }\n",
       "\n",
       "    .dataframe tbody tr th {\n",
       "        vertical-align: top;\n",
       "    }\n",
       "\n",
       "    .dataframe thead th {\n",
       "        text-align: right;\n",
       "    }\n",
       "</style>\n",
       "<table border=\"1\" class=\"dataframe\">\n",
       "  <thead>\n",
       "    <tr style=\"text-align: right;\">\n",
       "      <th></th>\n",
       "      <th>target</th>\n",
       "      <th>content</th>\n",
       "    </tr>\n",
       "  </thead>\n",
       "  <tbody>\n",
       "    <tr>\n",
       "      <th>0</th>\n",
       "      <td>0</td>\n",
       "      <td>@switchfoot http://twitpic.com/2y1zl - Awww, t...</td>\n",
       "    </tr>\n",
       "    <tr>\n",
       "      <th>1</th>\n",
       "      <td>0</td>\n",
       "      <td>is upset that he can't update his Facebook by ...</td>\n",
       "    </tr>\n",
       "    <tr>\n",
       "      <th>2</th>\n",
       "      <td>0</td>\n",
       "      <td>@Kenichan I dived many times for the ball. Man...</td>\n",
       "    </tr>\n",
       "    <tr>\n",
       "      <th>3</th>\n",
       "      <td>0</td>\n",
       "      <td>my whole body feels itchy and like its on fire</td>\n",
       "    </tr>\n",
       "    <tr>\n",
       "      <th>4</th>\n",
       "      <td>0</td>\n",
       "      <td>@nationwideclass no, it's not behaving at all....</td>\n",
       "    </tr>\n",
       "  </tbody>\n",
       "</table>\n",
       "</div>"
      ],
      "text/plain": [
       "   target                                            content\n",
       "0       0  @switchfoot http://twitpic.com/2y1zl - Awww, t...\n",
       "1       0  is upset that he can't update his Facebook by ...\n",
       "2       0  @Kenichan I dived many times for the ball. Man...\n",
       "3       0    my whole body feels itchy and like its on fire \n",
       "4       0  @nationwideclass no, it's not behaving at all...."
      ]
     },
     "execution_count": 146,
     "metadata": {},
     "output_type": "execute_result"
    }
   ],
   "source": [
    "train_data.head()"
   ]
  },
  {
   "cell_type": "markdown",
   "id": "19c45a34-d8e9-4111-a72d-fd2353b08a24",
   "metadata": {},
   "source": [
    "# NLP"
   ]
  },
  {
   "cell_type": "code",
   "execution_count": 147,
   "id": "bd58e114-4384-455c-83f6-0fe9328098ff",
   "metadata": {},
   "outputs": [],
   "source": [
    "import nltk\n",
    "from nltk.corpus import stopwords as sw\n",
    "from nltk.stem import WordNetLemmatizer\n",
    "from sklearn.feature_extraction.text import CountVectorizer\n",
    "from sklearn.feature_extraction.text import TfidfVectorizer\n",
    "import re"
   ]
  },
  {
   "cell_type": "code",
   "execution_count": 148,
   "id": "452c5e85-6b35-416c-832e-870d0e3c0854",
   "metadata": {},
   "outputs": [],
   "source": [
    "# nltk.download('stopwords')\n",
    "# nltk.download('wordnet')\n",
    "# nltk.download('omw-1.4')"
   ]
  },
  {
   "cell_type": "code",
   "execution_count": 149,
   "id": "9d8da14c-f3b2-46ed-b605-475b02f2b6f1",
   "metadata": {},
   "outputs": [
    {
     "name": "stdout",
     "output_type": "stream",
     "text": [
      "['i', 'me', 'my', 'myself', 'we', 'our', 'ours', 'ourselves', 'you', \"you're\", \"you've\", \"you'll\", \"you'd\", 'your', 'yours', 'yourself', 'yourselves', 'he', 'him', 'his', 'himself', 'she', \"she's\", 'her', 'hers', 'herself', 'it', \"it's\", 'its', 'itself', 'they', 'them', 'their', 'theirs', 'themselves', 'what', 'which', 'who', 'whom', 'this', 'that', \"that'll\", 'these', 'those', 'am', 'is', 'are', 'was', 'were', 'be', 'been', 'being', 'have', 'has', 'had', 'having', 'do', 'does', 'did', 'doing', 'a', 'an', 'the', 'and', 'but', 'if', 'or', 'because', 'as', 'until', 'while', 'of', 'at', 'by', 'for', 'with', 'about', 'against', 'between', 'into', 'through', 'during', 'before', 'after', 'above', 'below', 'to', 'from', 'up', 'down', 'in', 'out', 'on', 'off', 'over', 'under', 'again', 'further', 'then', 'once', 'here', 'there', 'when', 'where', 'why', 'how', 'all', 'any', 'both', 'each', 'few', 'more', 'most', 'other', 'some', 'such', 'no', 'nor', 'not', 'only', 'own', 'same', 'so', 'than', 'too', 'very', 's', 't', 'can', 'will', 'just', 'don', \"don't\", 'should', \"should've\", 'now', 'd', 'll', 'm', 'o', 're', 've', 'y', 'ain', 'aren', \"aren't\", 'couldn', \"couldn't\", 'didn', \"didn't\", 'doesn', \"doesn't\", 'hadn', \"hadn't\", 'hasn', \"hasn't\", 'haven', \"haven't\", 'isn', \"isn't\", 'ma', 'mightn', \"mightn't\", 'mustn', \"mustn't\", 'needn', \"needn't\", 'shan', \"shan't\", 'shouldn', \"shouldn't\", 'wasn', \"wasn't\", 'weren', \"weren't\", 'won', \"won't\", 'wouldn', \"wouldn't\"]\n"
     ]
    }
   ],
   "source": [
    "print(sw.words('english'))"
   ]
  },
  {
   "cell_type": "code",
   "execution_count": 150,
   "id": "4df18a6d-3dcb-4304-8047-6fc8628b5618",
   "metadata": {},
   "outputs": [],
   "source": [
    "# ws = WordNetLemmatizer()\n",
    "# corpus = []\n",
    "\n",
    "# for i in range(0,len(train_data)):\n",
    "#     news = re.sub('[^a-zA-Z]', ' ',train_data['content'][i])\n",
    "#     news = news.lower()\n",
    "#     news = news.split()\n",
    "    \n",
    "#     news = [ws.lemmatize(word) for word in news if not word in sw.words('english')]\n",
    "#     news = ' '.join(news)\n",
    "#     corpus.append(news)"
   ]
  },
  {
   "cell_type": "code",
   "execution_count": 151,
   "id": "5a23e0e2-db2c-48f8-8dc1-ddc988e0e8e7",
   "metadata": {
    "scrolled": true,
    "tags": []
   },
   "outputs": [],
   "source": [
    "# corpus"
   ]
  },
  {
   "cell_type": "code",
   "execution_count": 152,
   "id": "3e86dea4-5130-4daf-ac84-40bcd165c892",
   "metadata": {},
   "outputs": [],
   "source": [
    "# cv = CountVectorizer(max_features=5000)\n",
    "# x = cv.fit_transform(corpus).toarray()"
   ]
  },
  {
   "cell_type": "code",
   "execution_count": 153,
   "id": "023ca8c5-4474-4405-be56-2bae6bcd648b",
   "metadata": {},
   "outputs": [],
   "source": [
    "# x.shape"
   ]
  },
  {
   "cell_type": "code",
   "execution_count": 154,
   "id": "5d2b9460-994f-437d-a5a7-d425677f1e68",
   "metadata": {},
   "outputs": [],
   "source": [
    "# y = tra['label'].iloc[:].values"
   ]
  },
  {
   "cell_type": "code",
   "execution_count": 155,
   "id": "13815a03-1f68-469c-be49-435235101ea3",
   "metadata": {},
   "outputs": [],
   "source": [
    "# y.shape"
   ]
  },
  {
   "cell_type": "code",
   "execution_count": 156,
   "id": "ecc51f23-0f64-41a9-8ae1-cad0796d1acf",
   "metadata": {},
   "outputs": [],
   "source": [
    "def text_cleaning(text):\n",
    "    text = re.sub(r'@[A-Za-z0-9]+', '',text)\n",
    "    text = re.sub(r'@[A-Za-zA-Z0-9]+', '',text)\n",
    "    text = re.sub(r'@[A-Za-z]+', '',text)\n",
    "    text = re.sub(r'@[-)]+', '',text)\n",
    "    text = re.sub(r'#', '',text)\n",
    "    text = re.sub(r'RT[\\s]+', '',text)\n",
    "    text = re.sub(r'http?\\/\\/\\S+', '',text)\n",
    "    text = re.sub(r'&[a-z;]+', '',text)\n",
    "    \n",
    "    return text"
   ]
  },
  {
   "cell_type": "code",
   "execution_count": 157,
   "id": "be1cdd12-bcbb-44d5-a5ae-14a02d2ecabf",
   "metadata": {},
   "outputs": [],
   "source": [
    "train_data['content'] = train_data['content'].apply(text_cleaning)"
   ]
  },
  {
   "cell_type": "code",
   "execution_count": 158,
   "id": "bcdf5f0c-2663-463d-9be0-9bbf51f35db7",
   "metadata": {},
   "outputs": [
    {
     "data": {
      "text/html": [
       "<div>\n",
       "<style scoped>\n",
       "    .dataframe tbody tr th:only-of-type {\n",
       "        vertical-align: middle;\n",
       "    }\n",
       "\n",
       "    .dataframe tbody tr th {\n",
       "        vertical-align: top;\n",
       "    }\n",
       "\n",
       "    .dataframe thead th {\n",
       "        text-align: right;\n",
       "    }\n",
       "</style>\n",
       "<table border=\"1\" class=\"dataframe\">\n",
       "  <thead>\n",
       "    <tr style=\"text-align: right;\">\n",
       "      <th></th>\n",
       "      <th>target</th>\n",
       "      <th>content</th>\n",
       "    </tr>\n",
       "  </thead>\n",
       "  <tbody>\n",
       "    <tr>\n",
       "      <th>0</th>\n",
       "      <td>0</td>\n",
       "      <td>http://twitpic.com/2y1zl - Awww, that's a bum...</td>\n",
       "    </tr>\n",
       "    <tr>\n",
       "      <th>1</th>\n",
       "      <td>0</td>\n",
       "      <td>is upset that he can't update his Facebook by ...</td>\n",
       "    </tr>\n",
       "    <tr>\n",
       "      <th>2</th>\n",
       "      <td>0</td>\n",
       "      <td>I dived many times for the ball. Managed to s...</td>\n",
       "    </tr>\n",
       "    <tr>\n",
       "      <th>3</th>\n",
       "      <td>0</td>\n",
       "      <td>my whole body feels itchy and like its on fire</td>\n",
       "    </tr>\n",
       "    <tr>\n",
       "      <th>4</th>\n",
       "      <td>0</td>\n",
       "      <td>no, it's not behaving at all. i'm mad. why am...</td>\n",
       "    </tr>\n",
       "    <tr>\n",
       "      <th>5</th>\n",
       "      <td>0</td>\n",
       "      <td>not the whole crew</td>\n",
       "    </tr>\n",
       "    <tr>\n",
       "      <th>6</th>\n",
       "      <td>0</td>\n",
       "      <td>Need a hug</td>\n",
       "    </tr>\n",
       "    <tr>\n",
       "      <th>7</th>\n",
       "      <td>0</td>\n",
       "      <td>hey  long time no see! Yes.. Rains a bit ,onl...</td>\n",
       "    </tr>\n",
       "    <tr>\n",
       "      <th>8</th>\n",
       "      <td>0</td>\n",
       "      <td>_K nope they didn't have it</td>\n",
       "    </tr>\n",
       "    <tr>\n",
       "      <th>9</th>\n",
       "      <td>0</td>\n",
       "      <td>que me muera ?</td>\n",
       "    </tr>\n",
       "  </tbody>\n",
       "</table>\n",
       "</div>"
      ],
      "text/plain": [
       "   target                                            content\n",
       "0       0   http://twitpic.com/2y1zl - Awww, that's a bum...\n",
       "1       0  is upset that he can't update his Facebook by ...\n",
       "2       0   I dived many times for the ball. Managed to s...\n",
       "3       0    my whole body feels itchy and like its on fire \n",
       "4       0   no, it's not behaving at all. i'm mad. why am...\n",
       "5       0                                not the whole crew \n",
       "6       0                                        Need a hug \n",
       "7       0   hey  long time no see! Yes.. Rains a bit ,onl...\n",
       "8       0                       _K nope they didn't have it \n",
       "9       0                                    que me muera ? "
      ]
     },
     "execution_count": 158,
     "metadata": {},
     "output_type": "execute_result"
    }
   ],
   "source": [
    "train_data.head(10)"
   ]
  },
  {
   "cell_type": "markdown",
   "id": "8b071b00-be70-498f-803a-739c7d57d380",
   "metadata": {},
   "source": [
    "# train test split"
   ]
  },
  {
   "cell_type": "code",
   "execution_count": 159,
   "id": "eb43a94a-e9e9-4c7d-8917-8a5a8581ee86",
   "metadata": {},
   "outputs": [],
   "source": [
    "from sklearn.model_selection import train_test_split"
   ]
  },
  {
   "cell_type": "code",
   "execution_count": 76,
   "id": "9945ee04-c9c9-4875-b35b-29a39ac4d99f",
   "metadata": {},
   "outputs": [],
   "source": [
    "# x = train_data.iloc[: , 1:2].values"
   ]
  },
  {
   "cell_type": "code",
   "execution_count": 77,
   "id": "ecb47fbb-a401-476c-94a6-7d981ee6cf5d",
   "metadata": {},
   "outputs": [],
   "source": [
    "# y = train_data.iloc[:,:1].values"
   ]
  },
  {
   "cell_type": "code",
   "execution_count": 160,
   "id": "f30a2ed4-d52c-4c00-aa68-663cc6d203c8",
   "metadata": {},
   "outputs": [],
   "source": [
    "x = train_data['content'].values\n",
    "y = train_data['target'].values"
   ]
  },
  {
   "cell_type": "code",
   "execution_count": null,
   "id": "85ac77d8-d93c-4a99-aaf4-a70f588325b5",
   "metadata": {},
   "outputs": [],
   "source": []
  },
  {
   "cell_type": "code",
   "execution_count": 163,
   "id": "c6207b89-49bf-4a4a-bdea-0abbcd9c09bc",
   "metadata": {},
   "outputs": [],
   "source": [
    "x_train , x_test ,y_train, y_test = train_test_split(x , y,test_size=0.25)"
   ]
  },
  {
   "cell_type": "code",
   "execution_count": 164,
   "id": "5c5a61c8-d56a-4616-adc0-9fbc061f437b",
   "metadata": {},
   "outputs": [
    {
     "name": "stdout",
     "output_type": "stream",
     "text": [
      "Content   ill make up all the lost time I am causeing...\n",
      "target 1\n"
     ]
    }
   ],
   "source": [
    "print('Content',x_train[123])\n",
    "print('target',y_train[963])"
   ]
  },
  {
   "cell_type": "code",
   "execution_count": null,
   "id": "897b683e-c212-4c34-ae59-ea33891b3aa1",
   "metadata": {},
   "outputs": [],
   "source": []
  },
  {
   "cell_type": "markdown",
   "id": "71134d20-1112-4d21-85c7-fda3a1376f5f",
   "metadata": {},
   "source": [
    "# converting the strings into integers using Tokenizer"
   ]
  },
  {
   "cell_type": "code",
   "execution_count": 165,
   "id": "0c6459ab-3f80-4235-a894-fbc865249339",
   "metadata": {},
   "outputs": [],
   "source": [
    "from tensorflow.keras.preprocessing.text import Tokenizer\n",
    "from tensorflow.keras.preprocessing.sequence import pad_sequences"
   ]
  },
  {
   "cell_type": "code",
   "execution_count": 166,
   "id": "0f69bea2-fda9-4c6e-ae34-26f18bdffc58",
   "metadata": {},
   "outputs": [],
   "source": [
    "# x_train = np.array(x_train)"
   ]
  },
  {
   "cell_type": "markdown",
   "id": "62b40630-f8ba-4094-8b01-06e46814e4f9",
   "metadata": {},
   "source": [
    "# Instantiating the tokenizer"
   ]
  },
  {
   "cell_type": "code",
   "execution_count": 167,
   "id": "b07d53e7-bce1-48dd-9a28-1ace171f406b",
   "metadata": {},
   "outputs": [],
   "source": [
    "max_vocab = 200000\n",
    "tokenizer = Tokenizer(num_words=max_vocab)\n",
    "tokenizer.fit_on_texts(x_train)"
   ]
  },
  {
   "cell_type": "code",
   "execution_count": null,
   "id": "0347de19-4c19-4dee-a6e8-f53561bf2372",
   "metadata": {},
   "outputs": [],
   "source": []
  },
  {
   "cell_type": "markdown",
   "id": "74db6a12-8f2a-44d3-806d-619ed1c4a797",
   "metadata": {},
   "source": [
    "# checking the word index and find out the vocabulary of the dataset"
   ]
  },
  {
   "cell_type": "code",
   "execution_count": 168,
   "id": "fdf09dd8-b8a9-4389-9c6e-659a4232a9e5",
   "metadata": {},
   "outputs": [
    {
     "name": "stdout",
     "output_type": "stream",
     "text": [
      "the size of dataset vocab is 317592\n"
     ]
    }
   ],
   "source": [
    "wordidx = tokenizer.word_index\n",
    "V = len(wordidx) \n",
    "print('the size of dataset vocab is', V)"
   ]
  },
  {
   "cell_type": "markdown",
   "id": "bcba3137-4eb9-4c15-a125-f5c1eb61921a",
   "metadata": {},
   "source": [
    "# converting train and test sentences into sequences"
   ]
  },
  {
   "cell_type": "code",
   "execution_count": 169,
   "id": "1c70097d-5067-47cd-9b53-964b5e69e053",
   "metadata": {},
   "outputs": [
    {
     "name": "stdout",
     "output_type": "stream",
     "text": [
      "Training sequence: [13, 3, 128, 2, 9263, 6300, 884, 484, 7089]\n",
      "testing sequence: [255, 57, 132, 126, 4, 2183, 27]\n"
     ]
    }
   ],
   "source": [
    "train_seq = tokenizer.texts_to_sequences(x_train)\n",
    "test_seq = tokenizer.texts_to_sequences(x_test)\n",
    "print('Training sequence:', train_seq[0])\n",
    "print('testing sequence:',test_seq[0])"
   ]
  },
  {
   "cell_type": "code",
   "execution_count": null,
   "id": "f6f2d424-c38c-41d1-ad06-5b0d6341470a",
   "metadata": {},
   "outputs": [],
   "source": []
  },
  {
   "cell_type": "code",
   "execution_count": 170,
   "id": "fc6432bb-3a08-4027-9fbd-e6c3b1473284",
   "metadata": {},
   "outputs": [
    {
     "name": "stdout",
     "output_type": "stream",
     "text": [
      "The length of training sequence is: 51\n"
     ]
    }
   ],
   "source": [
    "#padding the sequences to get equal length sequence because its conventional to use same size sequence\n",
    "# padding the training sequence\n",
    "\n",
    "pad_train = pad_sequences(train_seq)\n",
    "T = pad_train.shape[1]\n",
    "print('The length of training sequence is:',T)"
   ]
  },
  {
   "cell_type": "code",
   "execution_count": 171,
   "id": "4612eb32-0d3e-49f2-9fe3-d125a9832591",
   "metadata": {},
   "outputs": [
    {
     "name": "stdout",
     "output_type": "stream",
     "text": [
      "The length of testing sequence is: 51\n"
     ]
    }
   ],
   "source": [
    "# padding the test sequence\n",
    "\n",
    "pad_test = pad_sequences(test_seq,maxlen=T)\n",
    "print('The length of testing sequence is:',pad_test.shape[1])"
   ]
  },
  {
   "cell_type": "markdown",
   "id": "40b28595-1226-4147-997c-41bb3d7cec49",
   "metadata": {},
   "source": [
    "# Model Building"
   ]
  },
  {
   "cell_type": "code",
   "execution_count": 173,
   "id": "ea468143-9960-4b43-8ee5-4c8bec7498ec",
   "metadata": {},
   "outputs": [],
   "source": [
    "from tensorflow.keras.layers import Input , Dense ,Embedding ,GlobalAveragePooling1D ,LSTM\n",
    "from tensorflow.keras.models import Model"
   ]
  },
  {
   "cell_type": "code",
   "execution_count": 175,
   "id": "449fa1a3-e6af-4a4c-89a2-d19ef6400a19",
   "metadata": {},
   "outputs": [
    {
     "name": "stderr",
     "output_type": "stream",
     "text": [
      "2022-08-03 16:11:57.221802: W tensorflow/core/framework/cpu_allocator_impl.cc:82] Allocation of 25407440 exceeds 10% of free system memory.\n",
      "2022-08-03 16:11:57.447858: W tensorflow/core/framework/cpu_allocator_impl.cc:82] Allocation of 25407440 exceeds 10% of free system memory.\n"
     ]
    }
   ],
   "source": [
    "D = 20    # used for dimension of embedding layer\n",
    "M = 15    # used for dimension of LSTM layers\n",
    "\n",
    "i = Input(shape=(T ,))\n",
    "X = Embedding(V+1 ,D)(i)     # V+1 bcoz the indexing of the words in vocab (V) start from 1 not 0\n",
    "X = LSTM(M , return_sequences= True)(X)\n",
    "X = GlobalAveragePooling1D()(X)\n",
    "X = Dense(32 ,activation='relu')(X)\n",
    "X = Dense(1, activation='sigmoid')(X)\n",
    "\n",
    "model = Model(i,X)"
   ]
  },
  {
   "cell_type": "code",
   "execution_count": 176,
   "id": "8061a60d-0772-4d3d-a0a1-b72791560bb5",
   "metadata": {},
   "outputs": [],
   "source": [
    "# compiling the model\n",
    "\n",
    "model.compile(optimizer='adam',loss='binary_crossentropy',metrics=['accuracy'])"
   ]
  },
  {
   "cell_type": "code",
   "execution_count": 178,
   "id": "948e9e27-efc0-4543-9091-f046a7ccee4b",
   "metadata": {},
   "outputs": [
    {
     "name": "stdout",
     "output_type": "stream",
     "text": [
      "Epoch 1/2\n",
      "37500/37500 [==============================] - 3675s 98ms/step - loss: 0.4215 - accuracy: 0.8068 - val_loss: 0.3930 - val_accuracy: 0.8225\n",
      "Epoch 2/2\n",
      "37500/37500 [==============================] - 3284s 88ms/step - loss: 0.3652 - accuracy: 0.8379 - val_loss: 0.3876 - val_accuracy: 0.8254\n"
     ]
    },
    {
     "data": {
      "text/plain": [
       "<keras.callbacks.History at 0x7ff800be0d30>"
      ]
     },
     "execution_count": 178,
     "metadata": {},
     "output_type": "execute_result"
    }
   ],
   "source": [
    "# training the model\n",
    "\n",
    "history = model.fit(pad_train, y_train,validation_data=(pad_test,y_test),epochs=2)"
   ]
  },
  {
   "cell_type": "code",
   "execution_count": 179,
   "id": "3c066b94-ecb7-4e41-84e2-038eea2fdc59",
   "metadata": {},
   "outputs": [
    {
     "ename": "TypeError",
     "evalue": "'History' object is not subscriptable",
     "output_type": "error",
     "traceback": [
      "\u001b[0;31m---------------------------------------------------------------------------\u001b[0m",
      "\u001b[0;31mTypeError\u001b[0m                                 Traceback (most recent call last)",
      "Input \u001b[0;32mIn [179]\u001b[0m, in \u001b[0;36m<module>\u001b[0;34m\u001b[0m\n\u001b[1;32m      1\u001b[0m \u001b[38;5;66;03m# Evaluating the model \u001b[39;00m\n\u001b[1;32m      2\u001b[0m \u001b[38;5;66;03m# plotting the loss and validation loss of the model\u001b[39;00m\n\u001b[0;32m----> 4\u001b[0m plt\u001b[38;5;241m.\u001b[39mplot(\u001b[43mmodel\u001b[49m\u001b[38;5;241;43m.\u001b[39;49m\u001b[43mhistory\u001b[49m\u001b[43m[\u001b[49m\u001b[38;5;124;43m'\u001b[39;49m\u001b[38;5;124;43mloss\u001b[39;49m\u001b[38;5;124;43m'\u001b[39;49m\u001b[43m]\u001b[49m,label\u001b[38;5;241m=\u001b[39m\u001b[38;5;124m'\u001b[39m\u001b[38;5;124mloss\u001b[39m\u001b[38;5;124m'\u001b[39m)\n\u001b[1;32m      5\u001b[0m plt\u001b[38;5;241m.\u001b[39mplot(model\u001b[38;5;241m.\u001b[39mhistory[\u001b[38;5;124m'\u001b[39m\u001b[38;5;124mval_loss\u001b[39m\u001b[38;5;124m'\u001b[39m],label\u001b[38;5;241m=\u001b[39m\u001b[38;5;124m'\u001b[39m\u001b[38;5;124mval_loss\u001b[39m\u001b[38;5;124m'\u001b[39m)\n\u001b[1;32m      6\u001b[0m plt\u001b[38;5;241m.\u001b[39mlegend()\n",
      "\u001b[0;31mTypeError\u001b[0m: 'History' object is not subscriptable"
     ]
    }
   ],
   "source": [
    "# Evaluating the model \n",
    "# plotting the loss and validation loss of the model\n",
    "\n",
    "plt.plot(model.history['loss'],label='loss')\n",
    "plt.plot(model.history['val_loss'],label='val_loss')\n",
    "plt.legend()\n",
    "plt.show()"
   ]
  },
  {
   "cell_type": "code",
   "execution_count": 180,
   "id": "a97eee9b-dddf-4e8d-9759-5538fad39e87",
   "metadata": {},
   "outputs": [
    {
     "ename": "TypeError",
     "evalue": "'History' object is not subscriptable",
     "output_type": "error",
     "traceback": [
      "\u001b[0;31m---------------------------------------------------------------------------\u001b[0m",
      "\u001b[0;31mTypeError\u001b[0m                                 Traceback (most recent call last)",
      "Input \u001b[0;32mIn [180]\u001b[0m, in \u001b[0;36m<module>\u001b[0;34m\u001b[0m\n\u001b[1;32m      1\u001b[0m \u001b[38;5;66;03m# plotting the accuracy and validation accuracy of the model\u001b[39;00m\n\u001b[0;32m----> 3\u001b[0m plt\u001b[38;5;241m.\u001b[39mplot(\u001b[43mmodel\u001b[49m\u001b[38;5;241;43m.\u001b[39;49m\u001b[43mhistory\u001b[49m\u001b[43m[\u001b[49m\u001b[38;5;124;43m'\u001b[39;49m\u001b[38;5;124;43maccuracy\u001b[39;49m\u001b[38;5;124;43m'\u001b[39;49m\u001b[43m]\u001b[49m,label\u001b[38;5;241m=\u001b[39m\u001b[38;5;124m'\u001b[39m\u001b[38;5;124maccuracy\u001b[39m\u001b[38;5;124m'\u001b[39m)\n\u001b[1;32m      4\u001b[0m plt\u001b[38;5;241m.\u001b[39mplot(model\u001b[38;5;241m.\u001b[39mhistory[\u001b[38;5;124m'\u001b[39m\u001b[38;5;124mval_accuracy\u001b[39m\u001b[38;5;124m'\u001b[39m],label\u001b[38;5;241m=\u001b[39m\u001b[38;5;124m'\u001b[39m\u001b[38;5;124mval_accuracy\u001b[39m\u001b[38;5;124m'\u001b[39m)\n\u001b[1;32m      5\u001b[0m plt\u001b[38;5;241m.\u001b[39mlegend()\n",
      "\u001b[0;31mTypeError\u001b[0m: 'History' object is not subscriptable"
     ]
    }
   ],
   "source": [
    "# plotting the accuracy and validation accuracy of the model\n",
    "\n",
    "plt.plot(model.history['accuracy'],label='accuracy')\n",
    "plt.plot(model.history['val_accuracy'],label='val_accuracy')\n",
    "plt.legend()\n",
    "plt.show()"
   ]
  },
  {
   "cell_type": "code",
   "execution_count": 183,
   "id": "b2822137-28ec-44b5-9f71-221ecf6f6087",
   "metadata": {},
   "outputs": [
    {
     "name": "stdout",
     "output_type": "stream",
     "text": [
      "1/1 [==============================] - 0s 334ms/step\n",
      "It is a positive sentiment\n"
     ]
    }
   ],
   "source": [
    "# predicting the sentiment of any text\n",
    "\n",
    "def predict_sentiment(text):\n",
    "    #preproceesing the given text\n",
    "    text_seq = tokenizer.texts_to_sequences(text)\n",
    "    text_pad = pad_sequences(text_seq,maxlen=T)\n",
    "    \n",
    "    # predicting the class \n",
    "    predicted_sentiment = model.predict(text_pad).round()\n",
    "    \n",
    "    if predicted_sentiment == 1.0:\n",
    "        return(print('It is a positive sentiment'))\n",
    "    else:\n",
    "        return(print('It is a negative sentiment'))\n",
    "    \n",
    "text = ['I feel happy']\n",
    "predict_sentiment(text)"
   ]
  },
  {
   "cell_type": "code",
   "execution_count": 184,
   "id": "094e4266-79bb-4005-810f-fe11c85d067a",
   "metadata": {},
   "outputs": [],
   "source": [
    "# saving the model for future purpose\n",
    "# 1. pickle file\n",
    "# 2. HDFS file\n",
    "\n",
    "# model.save('sentiment analysis.h5')  ===> creates HDFS file for model"
   ]
  },
  {
   "cell_type": "code",
   "execution_count": null,
   "id": "920ba51b-3e46-4207-b636-bb51c9f113e2",
   "metadata": {},
   "outputs": [],
   "source": []
  }
 ],
 "metadata": {
  "kernelspec": {
   "display_name": "Python 3 (ipykernel)",
   "language": "python",
   "name": "python3"
  },
  "language_info": {
   "codemirror_mode": {
    "name": "ipython",
    "version": 3
   },
   "file_extension": ".py",
   "mimetype": "text/x-python",
   "name": "python",
   "nbconvert_exporter": "python",
   "pygments_lexer": "ipython3",
   "version": "3.8.8"
  }
 },
 "nbformat": 4,
 "nbformat_minor": 5
}
