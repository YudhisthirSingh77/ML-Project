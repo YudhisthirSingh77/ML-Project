{
 "cells": [
  {
   "cell_type": "code",
   "execution_count": 1,
   "id": "5231b759-c276-45f1-affd-4fc96f4d3608",
   "metadata": {},
   "outputs": [],
   "source": [
    "# Importing the Essential Libraries, Metrics\n",
    "\n",
    "import pandas as pd\n",
    "import numpy as np\n",
    "import matplotlib.pyplot as plt\n",
    "import seaborn as sns\n",
    "\n",
    "#sklearn\n",
    "# from sklearn.linear_model import LinearRegression\n",
    "# from sklearn.model_selection import train_test_split\n",
    "# from sklearn.metrics import r2_score, mean_absolute_error, mean_squared_error\n",
    "\n",
    "import warnings\n",
    "warnings.filterwarnings('ignore')\n",
    "\n",
    "import missingno as msno # to get visualization on missing values\n",
    "\n"
   ]
  },
  {
   "cell_type": "markdown",
   "id": "7c553042-0fa1-4aa8-90d3-f19c84693d51",
   "metadata": {},
   "source": [
    "# Read and Understand data"
   ]
  },
  {
   "cell_type": "code",
   "execution_count": 2,
   "id": "4c7b6048-4193-4ca4-b574-7310e9619a83",
   "metadata": {},
   "outputs": [],
   "source": [
    "df = pd.read_csv('used_cars_data.csv')"
   ]
  },
  {
   "cell_type": "code",
   "execution_count": 3,
   "id": "7021589b-cc7f-41fb-9f0a-98b9417c95e1",
   "metadata": {},
   "outputs": [
    {
     "name": "stdout",
     "output_type": "stream",
     "text": [
      "There are 7253 rows and 14 columns\n"
     ]
    }
   ],
   "source": [
    "cars=df.copy()\n",
    "print(f'There are {cars.shape[0]} rows and {cars.shape[1]} columns')  #fstring"
   ]
  },
  {
   "cell_type": "code",
   "execution_count": 4,
   "id": "9797cb5b-2d46-4157-80f1-dbaeea9bfa3b",
   "metadata": {},
   "outputs": [
    {
     "name": "stdout",
     "output_type": "stream",
     "text": [
      "Rows     :  7253\n",
      "Columns  :  14\n",
      "######################################## \n",
      " Features : \n",
      "\n",
      " ['S.No.', 'Name', 'Location', 'Year', 'Kilometers_Driven', 'Fuel_Type', 'Transmission', 'Owner_Type', 'Mileage', 'Engine', 'Power', 'Seats', 'New_Price', 'Price']\n",
      "######################################## \n",
      "Missing values :\n",
      "\n",
      " New_Price            6247\n",
      "Price                1234\n",
      "Seats                  53\n",
      "Engine                 46\n",
      "Power                  46\n",
      "Mileage                 2\n",
      "S.No.                   0\n",
      "Name                    0\n",
      "Location                0\n",
      "Year                    0\n",
      "Kilometers_Driven       0\n",
      "Fuel_Type               0\n",
      "Transmission            0\n",
      "Owner_Type              0\n",
      "dtype: int64\n",
      "######################################## \n",
      "Percent of missing :\n",
      "\n",
      " S.No.                 0.00\n",
      "Name                  0.00\n",
      "Location              0.00\n",
      "Year                  0.00\n",
      "Kilometers_Driven     0.00\n",
      "Fuel_Type             0.00\n",
      "Transmission          0.00\n",
      "Owner_Type            0.00\n",
      "Mileage               0.03\n",
      "Engine                0.63\n",
      "Power                 0.63\n",
      "Seats                 0.73\n",
      "New_Price            86.13\n",
      "Price                17.01\n",
      "dtype: float64\n",
      "######################################## \n",
      "Unique values :  \n",
      "\n",
      " S.No.                7253\n",
      "Name                 2041\n",
      "Location               11\n",
      "Year                   23\n",
      "Kilometers_Driven    3660\n",
      "Fuel_Type               5\n",
      "Transmission            2\n",
      "Owner_Type              4\n",
      "Mileage               450\n",
      "Engine                150\n",
      "Power                 386\n",
      "Seats                   9\n",
      "New_Price             625\n",
      "Price                1373\n",
      "dtype: int64\n"
     ]
    }
   ],
   "source": [
    "#get the size of dataframe\n",
    "print (\"Rows     : \" , cars.shape[0])  #get number of rows/observations\n",
    "print (\"Columns  : \" , cars.shape[1]) #get number of columns\n",
    "print (\"#\"*40,\"\\n\",\"Features : \\n\\n\", cars.columns.tolist()) #get name of columns/features\n",
    "print (\"#\"*40,\"\\nMissing values :\\n\\n\", cars.isnull().sum().sort_values(ascending=False))\n",
    "print( \"#\"*40,\"\\nPercent of missing :\\n\\n\", round(cars.isna().sum() / cars.isna().count() * 100, 2)) # looking at columns with most Missing Values\n",
    "print (\"#\"*40,\"\\nUnique values :  \\n\\n\", cars.nunique())  #  count of unique values"
   ]
  },
  {
   "cell_type": "code",
   "execution_count": 5,
   "id": "5738f254-c2ef-46e9-a6db-2c501edb8050",
   "metadata": {},
   "outputs": [
    {
     "data": {
      "text/html": [
       "<div>\n",
       "<style scoped>\n",
       "    .dataframe tbody tr th:only-of-type {\n",
       "        vertical-align: middle;\n",
       "    }\n",
       "\n",
       "    .dataframe tbody tr th {\n",
       "        vertical-align: top;\n",
       "    }\n",
       "\n",
       "    .dataframe thead th {\n",
       "        text-align: right;\n",
       "    }\n",
       "</style>\n",
       "<table border=\"1\" class=\"dataframe\">\n",
       "  <thead>\n",
       "    <tr style=\"text-align: right;\">\n",
       "      <th></th>\n",
       "      <th>S.No.</th>\n",
       "      <th>Name</th>\n",
       "      <th>Location</th>\n",
       "      <th>Year</th>\n",
       "      <th>Kilometers_Driven</th>\n",
       "      <th>Fuel_Type</th>\n",
       "      <th>Transmission</th>\n",
       "      <th>Owner_Type</th>\n",
       "      <th>Mileage</th>\n",
       "      <th>Engine</th>\n",
       "      <th>Power</th>\n",
       "      <th>Seats</th>\n",
       "      <th>New_Price</th>\n",
       "      <th>Price</th>\n",
       "    </tr>\n",
       "  </thead>\n",
       "  <tbody>\n",
       "    <tr>\n",
       "      <th>0</th>\n",
       "      <td>0</td>\n",
       "      <td>Maruti Wagon R LXI CNG</td>\n",
       "      <td>Mumbai</td>\n",
       "      <td>2010</td>\n",
       "      <td>72000</td>\n",
       "      <td>CNG</td>\n",
       "      <td>Manual</td>\n",
       "      <td>First</td>\n",
       "      <td>26.6 km/kg</td>\n",
       "      <td>998 CC</td>\n",
       "      <td>58.16 bhp</td>\n",
       "      <td>5.0</td>\n",
       "      <td>NaN</td>\n",
       "      <td>1.75</td>\n",
       "    </tr>\n",
       "    <tr>\n",
       "      <th>1</th>\n",
       "      <td>1</td>\n",
       "      <td>Hyundai Creta 1.6 CRDi SX Option</td>\n",
       "      <td>Pune</td>\n",
       "      <td>2015</td>\n",
       "      <td>41000</td>\n",
       "      <td>Diesel</td>\n",
       "      <td>Manual</td>\n",
       "      <td>First</td>\n",
       "      <td>19.67 kmpl</td>\n",
       "      <td>1582 CC</td>\n",
       "      <td>126.2 bhp</td>\n",
       "      <td>5.0</td>\n",
       "      <td>NaN</td>\n",
       "      <td>12.50</td>\n",
       "    </tr>\n",
       "    <tr>\n",
       "      <th>2</th>\n",
       "      <td>2</td>\n",
       "      <td>Honda Jazz V</td>\n",
       "      <td>Chennai</td>\n",
       "      <td>2011</td>\n",
       "      <td>46000</td>\n",
       "      <td>Petrol</td>\n",
       "      <td>Manual</td>\n",
       "      <td>First</td>\n",
       "      <td>18.2 kmpl</td>\n",
       "      <td>1199 CC</td>\n",
       "      <td>88.7 bhp</td>\n",
       "      <td>5.0</td>\n",
       "      <td>8.61 Lakh</td>\n",
       "      <td>4.50</td>\n",
       "    </tr>\n",
       "    <tr>\n",
       "      <th>3</th>\n",
       "      <td>3</td>\n",
       "      <td>Maruti Ertiga VDI</td>\n",
       "      <td>Chennai</td>\n",
       "      <td>2012</td>\n",
       "      <td>87000</td>\n",
       "      <td>Diesel</td>\n",
       "      <td>Manual</td>\n",
       "      <td>First</td>\n",
       "      <td>20.77 kmpl</td>\n",
       "      <td>1248 CC</td>\n",
       "      <td>88.76 bhp</td>\n",
       "      <td>7.0</td>\n",
       "      <td>NaN</td>\n",
       "      <td>6.00</td>\n",
       "    </tr>\n",
       "    <tr>\n",
       "      <th>4</th>\n",
       "      <td>4</td>\n",
       "      <td>Audi A4 New 2.0 TDI Multitronic</td>\n",
       "      <td>Coimbatore</td>\n",
       "      <td>2013</td>\n",
       "      <td>40670</td>\n",
       "      <td>Diesel</td>\n",
       "      <td>Automatic</td>\n",
       "      <td>Second</td>\n",
       "      <td>15.2 kmpl</td>\n",
       "      <td>1968 CC</td>\n",
       "      <td>140.8 bhp</td>\n",
       "      <td>5.0</td>\n",
       "      <td>NaN</td>\n",
       "      <td>17.74</td>\n",
       "    </tr>\n",
       "  </tbody>\n",
       "</table>\n",
       "</div>"
      ],
      "text/plain": [
       "   S.No.                              Name    Location  Year  \\\n",
       "0      0            Maruti Wagon R LXI CNG      Mumbai  2010   \n",
       "1      1  Hyundai Creta 1.6 CRDi SX Option        Pune  2015   \n",
       "2      2                      Honda Jazz V     Chennai  2011   \n",
       "3      3                 Maruti Ertiga VDI     Chennai  2012   \n",
       "4      4   Audi A4 New 2.0 TDI Multitronic  Coimbatore  2013   \n",
       "\n",
       "   Kilometers_Driven Fuel_Type Transmission Owner_Type     Mileage   Engine  \\\n",
       "0              72000       CNG       Manual      First  26.6 km/kg   998 CC   \n",
       "1              41000    Diesel       Manual      First  19.67 kmpl  1582 CC   \n",
       "2              46000    Petrol       Manual      First   18.2 kmpl  1199 CC   \n",
       "3              87000    Diesel       Manual      First  20.77 kmpl  1248 CC   \n",
       "4              40670    Diesel    Automatic     Second   15.2 kmpl  1968 CC   \n",
       "\n",
       "       Power  Seats  New_Price  Price  \n",
       "0  58.16 bhp    5.0        NaN   1.75  \n",
       "1  126.2 bhp    5.0        NaN  12.50  \n",
       "2   88.7 bhp    5.0  8.61 Lakh   4.50  \n",
       "3  88.76 bhp    7.0        NaN   6.00  \n",
       "4  140.8 bhp    5.0        NaN  17.74  "
      ]
     },
     "execution_count": 5,
     "metadata": {},
     "output_type": "execute_result"
    }
   ],
   "source": [
    "df.head()"
   ]
  },
  {
   "cell_type": "code",
   "execution_count": 6,
   "id": "2853ac2e-72b1-4393-a0b3-0281924a05f5",
   "metadata": {},
   "outputs": [
    {
     "name": "stdout",
     "output_type": "stream",
     "text": [
      "<class 'pandas.core.frame.DataFrame'>\n",
      "RangeIndex: 7253 entries, 0 to 7252\n",
      "Data columns (total 14 columns):\n",
      " #   Column             Non-Null Count  Dtype  \n",
      "---  ------             --------------  -----  \n",
      " 0   S.No.              7253 non-null   int64  \n",
      " 1   Name               7253 non-null   object \n",
      " 2   Location           7253 non-null   object \n",
      " 3   Year               7253 non-null   int64  \n",
      " 4   Kilometers_Driven  7253 non-null   int64  \n",
      " 5   Fuel_Type          7253 non-null   object \n",
      " 6   Transmission       7253 non-null   object \n",
      " 7   Owner_Type         7253 non-null   object \n",
      " 8   Mileage            7251 non-null   object \n",
      " 9   Engine             7207 non-null   object \n",
      " 10  Power              7207 non-null   object \n",
      " 11  Seats              7200 non-null   float64\n",
      " 12  New_Price          1006 non-null   object \n",
      " 13  Price              6019 non-null   float64\n",
      "dtypes: float64(2), int64(3), object(9)\n",
      "memory usage: 793.4+ KB\n"
     ]
    }
   ],
   "source": [
    "df.info()"
   ]
  },
  {
   "cell_type": "markdown",
   "id": "33cf950c-3869-4e6a-9ede-7e05b9504866",
   "metadata": {},
   "source": [
    "# Visualize missing values"
   ]
  },
  {
   "cell_type": "code",
   "execution_count": 7,
   "id": "2c3dad44-02a2-4712-a7b8-41bb08511217",
   "metadata": {},
   "outputs": [
    {
     "data": {
      "text/plain": [
       "<AxesSubplot:>"
      ]
     },
     "execution_count": 7,
     "metadata": {},
     "output_type": "execute_result"
    },
    {
     "data": {
      "image/png": "[encoded data removed]",
      "text/plain": [
       "<Figure size 1800x720 with 3 Axes>"
      ]
     },
     "metadata": {
      "needs_background": "light"
     },
     "output_type": "display_data"
    }
   ],
   "source": [
    "msno.bar(cars)"
   ]
  },
  {
   "cell_type": "code",
   "execution_count": 8,
   "id": "459d34c2-3e6e-4446-9b97-de8eb50f0db2",
   "metadata": {},
   "outputs": [
    {
     "data": {
      "text/plain": [
       "<AxesSubplot:>"
      ]
     },
     "execution_count": 8,
     "metadata": {},
     "output_type": "execute_result"
    },
    {
     "data": {
      "image/png": "[encoded data removed]",
      "text/plain": [
       "<Figure size 1008x576 with 2 Axes>"
      ]
     },
     "metadata": {
      "needs_background": "light"
     },
     "output_type": "display_data"
    }
   ],
   "source": [
    "figure = plt.figure(figsize=(14,8))\n",
    "sns.heatmap(cars.isna())"
   ]
  },
  {
   "cell_type": "code",
   "execution_count": 9,
   "id": "f8344f26-2e53-41c1-8a8f-037d6dd693ab",
   "metadata": {},
   "outputs": [],
   "source": [
    "# Observations\n",
    "# This preview shows that some columns potentially have a lot of missingness so we'll want to make sure to look into that later.\n",
    "\n",
    "#     --> New_Price has only 1006 values. 86 % values are missing\n",
    "\n",
    "#     --> Price, which is a Target variable 17 % missing values.This needs to be analysed further.\n",
    "\n",
    "#     --> Seats has only 53 values missing and number of seats can be one of key factor in deciding price.\n",
    "\n",
    "#     --> Power and Engine has 46 missing values.\n",
    "\n",
    "#     --> Mileage only has two values missing.\n",
    "\n",
    "#     --> Mileage,Power,Engine,New_Price we know are quantitative variables but are of object dtype here and needs to to converted to numeric.\n"
   ]
  },
  {
   "cell_type": "code",
   "execution_count": 10,
   "id": "b8369c3a-a76b-4d2c-a1a2-14185186bb42",
   "metadata": {},
   "outputs": [
    {
     "name": "stdout",
     "output_type": "stream",
     "text": [
      "Diesel      3852\n",
      "Petrol      3325\n",
      "CNG           62\n",
      "LPG           12\n",
      "Electric       2\n",
      "Name: Fuel_Type, dtype: int64\n",
      "########################################\n",
      "Mumbai        949\n",
      "Hyderabad     876\n",
      "Kochi         772\n",
      "Coimbatore    772\n",
      "Pune          765\n",
      "Delhi         660\n",
      "Kolkata       654\n",
      "Chennai       591\n",
      "Jaipur        499\n",
      "Bangalore     440\n",
      "Ahmedabad     275\n",
      "Name: Location, dtype: int64\n",
      "########################################\n",
      "Manual       5204\n",
      "Automatic    2049\n",
      "Name: Transmission, dtype: int64\n",
      "########################################\n",
      "5.0     6047\n",
      "7.0      796\n",
      "8.0      170\n",
      "4.0      119\n",
      "6.0       38\n",
      "2.0       18\n",
      "10.0       8\n",
      "9.0        3\n",
      "0.0        1\n",
      "Name: Seats, dtype: int64\n",
      "########################################\n",
      "2015    929\n",
      "2014    925\n",
      "2016    886\n",
      "2013    791\n",
      "2017    709\n",
      "2012    690\n",
      "2011    579\n",
      "2010    407\n",
      "2018    361\n",
      "2009    252\n",
      "2008    207\n",
      "2007    148\n",
      "2019    119\n",
      "2006     89\n",
      "2005     68\n",
      "2004     35\n",
      "2003     20\n",
      "2002     18\n",
      "2001      8\n",
      "2000      5\n",
      "1998      4\n",
      "1999      2\n",
      "1996      1\n",
      "Name: Year, dtype: int64\n",
      "########################################\n",
      "First             5952\n",
      "Second            1152\n",
      "Third              137\n",
      "Fourth & Above      12\n",
      "Name: Owner_Type, dtype: int64\n",
      "########################################\n"
     ]
    }
   ],
   "source": [
    "# Making a list of all categorical variables\n",
    "cat_col = [\n",
    "    \"Fuel_Type\",\n",
    "    \"Location\",\n",
    "    \"Transmission\",\n",
    "    \"Seats\",\n",
    "    \"Year\",\n",
    "    \"Owner_Type\",\n",
    "    \n",
    "]\n",
    "# Printing number of count of each unique value in each column\n",
    "for column in cat_col:\n",
    "    print(cars[column].value_counts())\n",
    "    print(\"#\" * 40)"
   ]
  },
  {
   "cell_type": "code",
   "execution_count": 11,
   "id": "83a36037-e8df-40fc-bdd0-42de1d617cf6",
   "metadata": {},
   "outputs": [],
   "source": [
    "# -->Maximum car being sold have fuel type as Diesel.\n",
    "# -->Mumbai has highest numbers of car availabe for purchase.\n",
    "# -->5204 cars with Manual transmission are available for purchase.\n",
    "# -->Most of the cars are 5 seaters and First owned.\n",
    "# -->Years of car ranges form 1996- 2015"
   ]
  },
  {
   "cell_type": "markdown",
   "id": "59bd7e77-a141-4be7-b616-56f64de784b1",
   "metadata": {},
   "source": [
    "# Data Preprocessing"
   ]
  },
  {
   "cell_type": "markdown",
   "id": "08366f04-9512-4b27-a4a7-c05c4233ff50",
   "metadata": {},
   "source": [
    "* Processing Engine,Power ,Mileage columns"
   ]
  },
  {
   "cell_type": "code",
   "execution_count": 12,
   "id": "ed1c4245-444f-4f94-bca1-3ed0aa810452",
   "metadata": {},
   "outputs": [
    {
     "data": {
      "text/html": [
       "<div>\n",
       "<style scoped>\n",
       "    .dataframe tbody tr th:only-of-type {\n",
       "        vertical-align: middle;\n",
       "    }\n",
       "\n",
       "    .dataframe tbody tr th {\n",
       "        vertical-align: top;\n",
       "    }\n",
       "\n",
       "    .dataframe thead th {\n",
       "        text-align: right;\n",
       "    }\n",
       "</style>\n",
       "<table border=\"1\" class=\"dataframe\">\n",
       "  <thead>\n",
       "    <tr style=\"text-align: right;\">\n",
       "      <th></th>\n",
       "      <th>Engine</th>\n",
       "      <th>Power</th>\n",
       "      <th>Mileage</th>\n",
       "    </tr>\n",
       "  </thead>\n",
       "  <tbody>\n",
       "    <tr>\n",
       "      <th>1082</th>\n",
       "      <td>1422 CC</td>\n",
       "      <td>70 bhp</td>\n",
       "      <td>19.4 kmpl</td>\n",
       "    </tr>\n",
       "    <tr>\n",
       "      <th>64</th>\n",
       "      <td>1396 CC</td>\n",
       "      <td>69 bhp</td>\n",
       "      <td>25.0 kmpl</td>\n",
       "    </tr>\n",
       "    <tr>\n",
       "      <th>68</th>\n",
       "      <td>1248 CC</td>\n",
       "      <td>88.5 bhp</td>\n",
       "      <td>24.52 kmpl</td>\n",
       "    </tr>\n",
       "    <tr>\n",
       "      <th>5705</th>\n",
       "      <td>1399 CC</td>\n",
       "      <td>92.7 bhp</td>\n",
       "      <td>14.49 kmpl</td>\n",
       "    </tr>\n",
       "    <tr>\n",
       "      <th>7207</th>\n",
       "      <td>1248 CC</td>\n",
       "      <td>74 bhp</td>\n",
       "      <td>26.59 kmpl</td>\n",
       "    </tr>\n",
       "    <tr>\n",
       "      <th>3325</th>\n",
       "      <td>1798 CC</td>\n",
       "      <td>157.8 bhp</td>\n",
       "      <td>13.14 kmpl</td>\n",
       "    </tr>\n",
       "    <tr>\n",
       "      <th>617</th>\n",
       "      <td>1199 CC</td>\n",
       "      <td>73.9 bhp</td>\n",
       "      <td>22.07 kmpl</td>\n",
       "    </tr>\n",
       "    <tr>\n",
       "      <th>5269</th>\n",
       "      <td>2199 CC</td>\n",
       "      <td>194.3 bhp</td>\n",
       "      <td>14.66 kmpl</td>\n",
       "    </tr>\n",
       "    <tr>\n",
       "      <th>4312</th>\n",
       "      <td>1586 CC</td>\n",
       "      <td>104.68 bhp</td>\n",
       "      <td>15.6 kmpl</td>\n",
       "    </tr>\n",
       "    <tr>\n",
       "      <th>6235</th>\n",
       "      <td>2477 CC</td>\n",
       "      <td>175.56 bhp</td>\n",
       "      <td>13.5 kmpl</td>\n",
       "    </tr>\n",
       "  </tbody>\n",
       "</table>\n",
       "</div>"
      ],
      "text/plain": [
       "       Engine       Power     Mileage\n",
       "1082  1422 CC      70 bhp   19.4 kmpl\n",
       "64    1396 CC      69 bhp   25.0 kmpl\n",
       "68    1248 CC    88.5 bhp  24.52 kmpl\n",
       "5705  1399 CC    92.7 bhp  14.49 kmpl\n",
       "7207  1248 CC      74 bhp  26.59 kmpl\n",
       "3325  1798 CC   157.8 bhp  13.14 kmpl\n",
       "617   1199 CC    73.9 bhp  22.07 kmpl\n",
       "5269  2199 CC   194.3 bhp  14.66 kmpl\n",
       "4312  1586 CC  104.68 bhp   15.6 kmpl\n",
       "6235  2477 CC  175.56 bhp   13.5 kmpl"
      ]
     },
     "execution_count": 12,
     "metadata": {},
     "output_type": "execute_result"
    }
   ],
   "source": [
    "cars[['Engine','Power','Mileage']].sample(10)"
   ]
  },
  {
   "cell_type": "code",
   "execution_count": 13,
   "id": "2c90aa77-bece-494a-9093-00c91c9cf34c",
   "metadata": {},
   "outputs": [
    {
     "data": {
      "text/plain": [
       "array(['CNG', 'Diesel', 'Petrol', 'LPG', 'Electric'], dtype=object)"
      ]
     },
     "execution_count": 13,
     "metadata": {},
     "output_type": "execute_result"
    }
   ],
   "source": [
    "cars['Fuel_Type'].unique()"
   ]
  },
  {
   "cell_type": "code",
   "execution_count": null,
   "id": "df62c983-57b6-4a45-815f-f68e45e0eab3",
   "metadata": {},
   "outputs": [],
   "source": []
  },
  {
   "cell_type": "markdown",
   "id": "083afcc6-b751-4d49-8617-bc715eb17e61",
   "metadata": {},
   "source": [
    "# Mileage"
   ]
  },
  {
   "cell_type": "code",
   "execution_count": 14,
   "id": "b9094add-e94b-4434-81ae-6571b86094bb",
   "metadata": {},
   "outputs": [
    {
     "data": {
      "text/html": [
       "<div>\n",
       "<style scoped>\n",
       "    .dataframe tbody tr th:only-of-type {\n",
       "        vertical-align: middle;\n",
       "    }\n",
       "\n",
       "    .dataframe tbody tr th {\n",
       "        vertical-align: top;\n",
       "    }\n",
       "\n",
       "    .dataframe thead th {\n",
       "        text-align: right;\n",
       "    }\n",
       "</style>\n",
       "<table border=\"1\" class=\"dataframe\">\n",
       "  <thead>\n",
       "    <tr style=\"text-align: right;\">\n",
       "      <th></th>\n",
       "      <th>S.No.</th>\n",
       "      <th>Name</th>\n",
       "      <th>Location</th>\n",
       "      <th>Year</th>\n",
       "      <th>Kilometers_Driven</th>\n",
       "      <th>Fuel_Type</th>\n",
       "      <th>Transmission</th>\n",
       "      <th>Owner_Type</th>\n",
       "      <th>Mileage</th>\n",
       "      <th>Engine</th>\n",
       "      <th>Power</th>\n",
       "      <th>Seats</th>\n",
       "      <th>New_Price</th>\n",
       "      <th>Price</th>\n",
       "    </tr>\n",
       "  </thead>\n",
       "  <tbody>\n",
       "    <tr>\n",
       "      <th>4446</th>\n",
       "      <td>4446</td>\n",
       "      <td>Mahindra E Verito D4</td>\n",
       "      <td>Chennai</td>\n",
       "      <td>2016</td>\n",
       "      <td>50000</td>\n",
       "      <td>Electric</td>\n",
       "      <td>Automatic</td>\n",
       "      <td>First</td>\n",
       "      <td>NaN</td>\n",
       "      <td>72 CC</td>\n",
       "      <td>41 bhp</td>\n",
       "      <td>5.0</td>\n",
       "      <td>13.58 Lakh</td>\n",
       "      <td>13.00</td>\n",
       "    </tr>\n",
       "    <tr>\n",
       "      <th>4904</th>\n",
       "      <td>4904</td>\n",
       "      <td>Toyota Prius 2009-2016 Z4</td>\n",
       "      <td>Mumbai</td>\n",
       "      <td>2011</td>\n",
       "      <td>44000</td>\n",
       "      <td>Electric</td>\n",
       "      <td>Automatic</td>\n",
       "      <td>First</td>\n",
       "      <td>NaN</td>\n",
       "      <td>1798 CC</td>\n",
       "      <td>73 bhp</td>\n",
       "      <td>5.0</td>\n",
       "      <td>NaN</td>\n",
       "      <td>12.75</td>\n",
       "    </tr>\n",
       "  </tbody>\n",
       "</table>\n",
       "</div>"
      ],
      "text/plain": [
       "      S.No.                       Name Location  Year  Kilometers_Driven  \\\n",
       "4446   4446       Mahindra E Verito D4  Chennai  2016              50000   \n",
       "4904   4904  Toyota Prius 2009-2016 Z4   Mumbai  2011              44000   \n",
       "\n",
       "     Fuel_Type Transmission Owner_Type Mileage   Engine   Power  Seats  \\\n",
       "4446  Electric    Automatic      First     NaN    72 CC  41 bhp    5.0   \n",
       "4904  Electric    Automatic      First     NaN  1798 CC  73 bhp    5.0   \n",
       "\n",
       "       New_Price  Price  \n",
       "4446  13.58 Lakh  13.00  \n",
       "4904         NaN  12.75  "
      ]
     },
     "execution_count": 14,
     "metadata": {},
     "output_type": "execute_result"
    }
   ],
   "source": [
    "cars[cars.Mileage.isnull()==True]"
   ]
  },
  {
   "cell_type": "code",
   "execution_count": 15,
   "id": "7b46ceb9-0838-43f1-831d-9b0ae6948c6b",
   "metadata": {},
   "outputs": [],
   "source": [
    "cars.insert(1,'Mileage_N',cars['Mileage'].str.split().str.get(0))"
   ]
  },
  {
   "cell_type": "code",
   "execution_count": 16,
   "id": "5eb1c557-6599-4dff-ac05-db2fec0b7d60",
   "metadata": {},
   "outputs": [],
   "source": [
    "cars['Mileage_N'].replace('null',np.nan,inplace=True)\n",
    "cars['Mileage_N'].replace('nan',np.nan,inplace=True)\n",
    "cars['Mileage_N'].replace('Nan',np.nan,inplace=True)"
   ]
  },
  {
   "cell_type": "markdown",
   "id": "a6556dc6-d92b-4f55-808c-81e9a1350425",
   "metadata": {},
   "source": [
    "# Engine"
   ]
  },
  {
   "cell_type": "code",
   "execution_count": 17,
   "id": "8bcf8108-f44a-4edd-86ce-be2b5e3179d0",
   "metadata": {},
   "outputs": [],
   "source": [
    "cars.insert(1,'Engine_N',cars['Engine'].str.split().str.get(0))"
   ]
  },
  {
   "cell_type": "code",
   "execution_count": 18,
   "id": "d950b38f-e16f-4ef4-8430-4948f509565c",
   "metadata": {},
   "outputs": [],
   "source": [
    "#remove units\n",
    "cars['Engine_N'].replace('null',np.nan,inplace=True)\n",
    "cars['Engine_N'].replace('nan',np.nan,inplace=True)\n",
    "cars['Engine_N'].replace('Nan',np.nan,inplace=True)"
   ]
  },
  {
   "cell_type": "markdown",
   "id": "925f7f35-7fde-4b85-a036-ca6fa6c0dfd7",
   "metadata": {},
   "source": [
    "# Power"
   ]
  },
  {
   "cell_type": "code",
   "execution_count": 19,
   "id": "b0baa75e-0258-42d8-b9aa-0f3e73f99152",
   "metadata": {},
   "outputs": [],
   "source": [
    "cars.insert(1,'Power_N',cars['Power'].str.split().str.get(0))"
   ]
  },
  {
   "cell_type": "code",
   "execution_count": 20,
   "id": "d4653ac6-babf-4d8e-8c5f-8cdc43d1fa11",
   "metadata": {},
   "outputs": [],
   "source": [
    "cars['Power_N'].replace('null',np.nan,inplace=True)\n",
    "cars['Power_N'].replace('nan',np.nan,inplace=True)\n",
    "cars['Power_N'].replace('Nan',np.nan,inplace=True)\n",
    "# cars[\"Power\"]= cars[\"Power\"].replace(regex=\"null\", value = np.nan)"
   ]
  },
  {
   "cell_type": "code",
   "execution_count": 21,
   "id": "fd734749-74a0-4b45-b021-953e5a8a1611",
   "metadata": {
    "scrolled": true,
    "tags": []
   },
   "outputs": [
    {
     "data": {
      "text/html": [
       "<div>\n",
       "<style scoped>\n",
       "    .dataframe tbody tr th:only-of-type {\n",
       "        vertical-align: middle;\n",
       "    }\n",
       "\n",
       "    .dataframe tbody tr th {\n",
       "        vertical-align: top;\n",
       "    }\n",
       "\n",
       "    .dataframe thead th {\n",
       "        text-align: right;\n",
       "    }\n",
       "</style>\n",
       "<table border=\"1\" class=\"dataframe\">\n",
       "  <thead>\n",
       "    <tr style=\"text-align: right;\">\n",
       "      <th></th>\n",
       "      <th>Engine_N</th>\n",
       "      <th>Power_N</th>\n",
       "      <th>Mileage_N</th>\n",
       "    </tr>\n",
       "  </thead>\n",
       "  <tbody>\n",
       "    <tr>\n",
       "      <th>7053</th>\n",
       "      <td>1461</td>\n",
       "      <td>83.8</td>\n",
       "      <td>20.45</td>\n",
       "    </tr>\n",
       "    <tr>\n",
       "      <th>5952</th>\n",
       "      <td>1298</td>\n",
       "      <td>88.2</td>\n",
       "      <td>16.1</td>\n",
       "    </tr>\n",
       "    <tr>\n",
       "      <th>2824</th>\n",
       "      <td>1598</td>\n",
       "      <td>103.5</td>\n",
       "      <td>15.26</td>\n",
       "    </tr>\n",
       "    <tr>\n",
       "      <th>5847</th>\n",
       "      <td>1968</td>\n",
       "      <td>141</td>\n",
       "      <td>19.5</td>\n",
       "    </tr>\n",
       "    <tr>\n",
       "      <th>4596</th>\n",
       "      <td>1498</td>\n",
       "      <td>98.6</td>\n",
       "      <td>25.1</td>\n",
       "    </tr>\n",
       "    <tr>\n",
       "      <th>734</th>\n",
       "      <td>1248</td>\n",
       "      <td>74</td>\n",
       "      <td>25.2</td>\n",
       "    </tr>\n",
       "    <tr>\n",
       "      <th>4874</th>\n",
       "      <td>1120</td>\n",
       "      <td>71</td>\n",
       "      <td>24.4</td>\n",
       "    </tr>\n",
       "    <tr>\n",
       "      <th>475</th>\n",
       "      <td>1968</td>\n",
       "      <td>108.49</td>\n",
       "      <td>17.72</td>\n",
       "    </tr>\n",
       "    <tr>\n",
       "      <th>5222</th>\n",
       "      <td>1497</td>\n",
       "      <td>117.3</td>\n",
       "      <td>17.4</td>\n",
       "    </tr>\n",
       "    <tr>\n",
       "      <th>7059</th>\n",
       "      <td>1396</td>\n",
       "      <td>69</td>\n",
       "      <td>23.03</td>\n",
       "    </tr>\n",
       "    <tr>\n",
       "      <th>4639</th>\n",
       "      <td>814</td>\n",
       "      <td>55.2</td>\n",
       "      <td>21.1</td>\n",
       "    </tr>\n",
       "    <tr>\n",
       "      <th>4927</th>\n",
       "      <td>1598</td>\n",
       "      <td>103.5</td>\n",
       "      <td>20.5</td>\n",
       "    </tr>\n",
       "    <tr>\n",
       "      <th>4932</th>\n",
       "      <td>1120</td>\n",
       "      <td>70</td>\n",
       "      <td>24.0</td>\n",
       "    </tr>\n",
       "    <tr>\n",
       "      <th>4532</th>\n",
       "      <td>998</td>\n",
       "      <td>67</td>\n",
       "      <td>22.5</td>\n",
       "    </tr>\n",
       "    <tr>\n",
       "      <th>7201</th>\n",
       "      <td>1197</td>\n",
       "      <td>81.86</td>\n",
       "      <td>18.9</td>\n",
       "    </tr>\n",
       "    <tr>\n",
       "      <th>2149</th>\n",
       "      <td>1968</td>\n",
       "      <td>174.3</td>\n",
       "      <td>14.16</td>\n",
       "    </tr>\n",
       "    <tr>\n",
       "      <th>1012</th>\n",
       "      <td>2393</td>\n",
       "      <td>147.8</td>\n",
       "      <td>13.68</td>\n",
       "    </tr>\n",
       "    <tr>\n",
       "      <th>4904</th>\n",
       "      <td>1798</td>\n",
       "      <td>73</td>\n",
       "      <td>NaN</td>\n",
       "    </tr>\n",
       "    <tr>\n",
       "      <th>5683</th>\n",
       "      <td>1499</td>\n",
       "      <td>110</td>\n",
       "      <td>15.8</td>\n",
       "    </tr>\n",
       "    <tr>\n",
       "      <th>4814</th>\n",
       "      <td>2179</td>\n",
       "      <td>147.51</td>\n",
       "      <td>12.39</td>\n",
       "    </tr>\n",
       "  </tbody>\n",
       "</table>\n",
       "</div>"
      ],
      "text/plain": [
       "     Engine_N Power_N Mileage_N\n",
       "7053     1461    83.8     20.45\n",
       "5952     1298    88.2      16.1\n",
       "2824     1598   103.5     15.26\n",
       "5847     1968     141      19.5\n",
       "4596     1498    98.6      25.1\n",
       "734      1248      74      25.2\n",
       "4874     1120      71      24.4\n",
       "475      1968  108.49     17.72\n",
       "5222     1497   117.3      17.4\n",
       "7059     1396      69     23.03\n",
       "4639      814    55.2      21.1\n",
       "4927     1598   103.5      20.5\n",
       "4932     1120      70      24.0\n",
       "4532      998      67      22.5\n",
       "7201     1197   81.86      18.9\n",
       "2149     1968   174.3     14.16\n",
       "1012     2393   147.8     13.68\n",
       "4904     1798      73       NaN\n",
       "5683     1499     110      15.8\n",
       "4814     2179  147.51     12.39"
      ]
     },
     "execution_count": 21,
     "metadata": {},
     "output_type": "execute_result"
    }
   ],
   "source": [
    "#verify the data\n",
    "num=['Engine_N','Power_N','Mileage_N']\n",
    "cars[num].sample(20)"
   ]
  },
  {
   "cell_type": "code",
   "execution_count": 22,
   "id": "804a543a-7d22-4d01-9309-af41c0d94fce",
   "metadata": {},
   "outputs": [],
   "source": [
    "cars.drop(columns=['New_Price','S.No.','Mileage','Power','Engine'],axis=1,inplace=True)"
   ]
  },
  {
   "cell_type": "code",
   "execution_count": 23,
   "id": "98353619-616c-4f47-b683-510b8c83d657",
   "metadata": {},
   "outputs": [
    {
     "data": {
      "text/plain": [
       "81"
      ]
     },
     "execution_count": 23,
     "metadata": {},
     "output_type": "execute_result"
    }
   ],
   "source": [
    "cars.query(\"Mileage_N == '0.0'\")['Mileage_N'].count()"
   ]
  },
  {
   "cell_type": "code",
   "execution_count": 24,
   "id": "db4aed85-834d-47a0-852c-dcbe8e034001",
   "metadata": {},
   "outputs": [
    {
     "data": {
      "text/plain": [
       "0"
      ]
     },
     "execution_count": 24,
     "metadata": {},
     "output_type": "execute_result"
    }
   ],
   "source": [
    "cars.query(\"Power_N == '0.0'\")['Power_N'].count()"
   ]
  },
  {
   "cell_type": "code",
   "execution_count": 25,
   "id": "429fcfbb-6f60-43ac-8ff6-58b030e0959e",
   "metadata": {},
   "outputs": [
    {
     "data": {
      "text/plain": [
       "Engine_N      46\n",
       "Power_N      175\n",
       "Mileage_N      2\n",
       "dtype: int64"
      ]
     },
     "execution_count": 25,
     "metadata": {},
     "output_type": "execute_result"
    }
   ],
   "source": [
    "col=['Engine_N','Power_N','Mileage_N']\n",
    "cars[col].isnull().sum()"
   ]
  },
  {
   "cell_type": "markdown",
   "id": "697f069a-e67b-400f-afee-29397fdc5223",
   "metadata": {},
   "source": [
    "* fill the missing value with median"
   ]
  },
  {
   "cell_type": "code",
   "execution_count": 26,
   "id": "209a9267-6224-4966-89aa-f44f964ee735",
   "metadata": {},
   "outputs": [],
   "source": [
    "# cols1 = [\"Power_N\",\"Mileage_N\",\"Engine_N\",'Seats']\n",
    "\n",
    "# for i in cols1:\n",
    "#     cars[i] = cars[i].fillna(cars[i].median())"
   ]
  },
  {
   "cell_type": "code",
   "execution_count": 27,
   "id": "cdc0a429-8c3e-4f98-91ec-c517115d6f16",
   "metadata": {},
   "outputs": [],
   "source": [
    "cars.dropna(inplace=True)"
   ]
  },
  {
   "cell_type": "code",
   "execution_count": 28,
   "id": "e470e2b1-2543-4774-8129-6b9adbd97f54",
   "metadata": {},
   "outputs": [],
   "source": [
    "# cars['Price'] = cars['Price'].fillna(value=cars['Price'].median())"
   ]
  },
  {
   "cell_type": "code",
   "execution_count": null,
   "id": "65879fd0-09c9-41d4-8eaf-81166380b119",
   "metadata": {},
   "outputs": [],
   "source": []
  },
  {
   "cell_type": "code",
   "execution_count": 29,
   "id": "aaa8a4d6-2f3b-4159-91ee-300075f37084",
   "metadata": {},
   "outputs": [
    {
     "data": {
      "text/plain": [
       "Power_N              0.0\n",
       "Engine_N             0.0\n",
       "Mileage_N            0.0\n",
       "Name                 0.0\n",
       "Location             0.0\n",
       "Year                 0.0\n",
       "Kilometers_Driven    0.0\n",
       "Fuel_Type            0.0\n",
       "Transmission         0.0\n",
       "Owner_Type           0.0\n",
       "Seats                0.0\n",
       "Price                0.0\n",
       "dtype: float64"
      ]
     },
     "execution_count": 29,
     "metadata": {},
     "output_type": "execute_result"
    }
   ],
   "source": [
    "cars.isnull().sum()/len(cars)*100"
   ]
  },
  {
   "cell_type": "code",
   "execution_count": 30,
   "id": "980c683e-cd5d-4f19-a729-81988c9d0d9b",
   "metadata": {},
   "outputs": [
    {
     "data": {
      "text/html": [
       "<div>\n",
       "<style scoped>\n",
       "    .dataframe tbody tr th:only-of-type {\n",
       "        vertical-align: middle;\n",
       "    }\n",
       "\n",
       "    .dataframe tbody tr th {\n",
       "        vertical-align: top;\n",
       "    }\n",
       "\n",
       "    .dataframe thead th {\n",
       "        text-align: right;\n",
       "    }\n",
       "</style>\n",
       "<table border=\"1\" class=\"dataframe\">\n",
       "  <thead>\n",
       "    <tr style=\"text-align: right;\">\n",
       "      <th></th>\n",
       "      <th>Power_N</th>\n",
       "      <th>Engine_N</th>\n",
       "      <th>Mileage_N</th>\n",
       "      <th>Name</th>\n",
       "      <th>Location</th>\n",
       "      <th>Year</th>\n",
       "      <th>Kilometers_Driven</th>\n",
       "      <th>Fuel_Type</th>\n",
       "      <th>Transmission</th>\n",
       "      <th>Owner_Type</th>\n",
       "      <th>Seats</th>\n",
       "      <th>Price</th>\n",
       "    </tr>\n",
       "  </thead>\n",
       "  <tbody>\n",
       "    <tr>\n",
       "      <th>0</th>\n",
       "      <td>58.16</td>\n",
       "      <td>998</td>\n",
       "      <td>26.6</td>\n",
       "      <td>Maruti Wagon R LXI CNG</td>\n",
       "      <td>Mumbai</td>\n",
       "      <td>2010</td>\n",
       "      <td>72000</td>\n",
       "      <td>CNG</td>\n",
       "      <td>Manual</td>\n",
       "      <td>First</td>\n",
       "      <td>5.0</td>\n",
       "      <td>1.75</td>\n",
       "    </tr>\n",
       "    <tr>\n",
       "      <th>1</th>\n",
       "      <td>126.2</td>\n",
       "      <td>1582</td>\n",
       "      <td>19.67</td>\n",
       "      <td>Hyundai Creta 1.6 CRDi SX Option</td>\n",
       "      <td>Pune</td>\n",
       "      <td>2015</td>\n",
       "      <td>41000</td>\n",
       "      <td>Diesel</td>\n",
       "      <td>Manual</td>\n",
       "      <td>First</td>\n",
       "      <td>5.0</td>\n",
       "      <td>12.50</td>\n",
       "    </tr>\n",
       "    <tr>\n",
       "      <th>2</th>\n",
       "      <td>88.7</td>\n",
       "      <td>1199</td>\n",
       "      <td>18.2</td>\n",
       "      <td>Honda Jazz V</td>\n",
       "      <td>Chennai</td>\n",
       "      <td>2011</td>\n",
       "      <td>46000</td>\n",
       "      <td>Petrol</td>\n",
       "      <td>Manual</td>\n",
       "      <td>First</td>\n",
       "      <td>5.0</td>\n",
       "      <td>4.50</td>\n",
       "    </tr>\n",
       "    <tr>\n",
       "      <th>3</th>\n",
       "      <td>88.76</td>\n",
       "      <td>1248</td>\n",
       "      <td>20.77</td>\n",
       "      <td>Maruti Ertiga VDI</td>\n",
       "      <td>Chennai</td>\n",
       "      <td>2012</td>\n",
       "      <td>87000</td>\n",
       "      <td>Diesel</td>\n",
       "      <td>Manual</td>\n",
       "      <td>First</td>\n",
       "      <td>7.0</td>\n",
       "      <td>6.00</td>\n",
       "    </tr>\n",
       "    <tr>\n",
       "      <th>4</th>\n",
       "      <td>140.8</td>\n",
       "      <td>1968</td>\n",
       "      <td>15.2</td>\n",
       "      <td>Audi A4 New 2.0 TDI Multitronic</td>\n",
       "      <td>Coimbatore</td>\n",
       "      <td>2013</td>\n",
       "      <td>40670</td>\n",
       "      <td>Diesel</td>\n",
       "      <td>Automatic</td>\n",
       "      <td>Second</td>\n",
       "      <td>5.0</td>\n",
       "      <td>17.74</td>\n",
       "    </tr>\n",
       "  </tbody>\n",
       "</table>\n",
       "</div>"
      ],
      "text/plain": [
       "  Power_N Engine_N Mileage_N                              Name    Location  \\\n",
       "0   58.16      998      26.6            Maruti Wagon R LXI CNG      Mumbai   \n",
       "1   126.2     1582     19.67  Hyundai Creta 1.6 CRDi SX Option        Pune   \n",
       "2    88.7     1199      18.2                      Honda Jazz V     Chennai   \n",
       "3   88.76     1248     20.77                 Maruti Ertiga VDI     Chennai   \n",
       "4   140.8     1968      15.2   Audi A4 New 2.0 TDI Multitronic  Coimbatore   \n",
       "\n",
       "   Year  Kilometers_Driven Fuel_Type Transmission Owner_Type  Seats  Price  \n",
       "0  2010              72000       CNG       Manual      First    5.0   1.75  \n",
       "1  2015              41000    Diesel       Manual      First    5.0  12.50  \n",
       "2  2011              46000    Petrol       Manual      First    5.0   4.50  \n",
       "3  2012              87000    Diesel       Manual      First    7.0   6.00  \n",
       "4  2013              40670    Diesel    Automatic     Second    5.0  17.74  "
      ]
     },
     "execution_count": 30,
     "metadata": {},
     "output_type": "execute_result"
    }
   ],
   "source": [
    "cars.head(5)"
   ]
  },
  {
   "cell_type": "code",
   "execution_count": 31,
   "id": "8e156bc9-9581-4eae-a885-c3712be76a01",
   "metadata": {},
   "outputs": [
    {
     "data": {
      "text/html": [
       "<div>\n",
       "<style scoped>\n",
       "    .dataframe tbody tr th:only-of-type {\n",
       "        vertical-align: middle;\n",
       "    }\n",
       "\n",
       "    .dataframe tbody tr th {\n",
       "        vertical-align: top;\n",
       "    }\n",
       "\n",
       "    .dataframe thead th {\n",
       "        text-align: right;\n",
       "    }\n",
       "</style>\n",
       "<table border=\"1\" class=\"dataframe\">\n",
       "  <thead>\n",
       "    <tr style=\"text-align: right;\">\n",
       "      <th></th>\n",
       "      <th>Year</th>\n",
       "      <th>Kilometers_Driven</th>\n",
       "      <th>Seats</th>\n",
       "      <th>Price</th>\n",
       "    </tr>\n",
       "  </thead>\n",
       "  <tbody>\n",
       "    <tr>\n",
       "      <th>count</th>\n",
       "      <td>5872.000000</td>\n",
       "      <td>5.872000e+03</td>\n",
       "      <td>5872.000000</td>\n",
       "      <td>5872.000000</td>\n",
       "    </tr>\n",
       "    <tr>\n",
       "      <th>mean</th>\n",
       "      <td>2013.477691</td>\n",
       "      <td>5.831700e+04</td>\n",
       "      <td>5.283719</td>\n",
       "      <td>9.603919</td>\n",
       "    </tr>\n",
       "    <tr>\n",
       "      <th>std</th>\n",
       "      <td>3.164568</td>\n",
       "      <td>9.216941e+04</td>\n",
       "      <td>0.805081</td>\n",
       "      <td>11.249453</td>\n",
       "    </tr>\n",
       "    <tr>\n",
       "      <th>min</th>\n",
       "      <td>1998.000000</td>\n",
       "      <td>1.710000e+02</td>\n",
       "      <td>2.000000</td>\n",
       "      <td>0.440000</td>\n",
       "    </tr>\n",
       "    <tr>\n",
       "      <th>25%</th>\n",
       "      <td>2012.000000</td>\n",
       "      <td>3.342250e+04</td>\n",
       "      <td>5.000000</td>\n",
       "      <td>3.517500</td>\n",
       "    </tr>\n",
       "    <tr>\n",
       "      <th>50%</th>\n",
       "      <td>2014.000000</td>\n",
       "      <td>5.260900e+04</td>\n",
       "      <td>5.000000</td>\n",
       "      <td>5.750000</td>\n",
       "    </tr>\n",
       "    <tr>\n",
       "      <th>75%</th>\n",
       "      <td>2016.000000</td>\n",
       "      <td>7.240275e+04</td>\n",
       "      <td>5.000000</td>\n",
       "      <td>10.000000</td>\n",
       "    </tr>\n",
       "    <tr>\n",
       "      <th>max</th>\n",
       "      <td>2019.000000</td>\n",
       "      <td>6.500000e+06</td>\n",
       "      <td>10.000000</td>\n",
       "      <td>160.000000</td>\n",
       "    </tr>\n",
       "  </tbody>\n",
       "</table>\n",
       "</div>"
      ],
      "text/plain": [
       "              Year  Kilometers_Driven        Seats        Price\n",
       "count  5872.000000       5.872000e+03  5872.000000  5872.000000\n",
       "mean   2013.477691       5.831700e+04     5.283719     9.603919\n",
       "std       3.164568       9.216941e+04     0.805081    11.249453\n",
       "min    1998.000000       1.710000e+02     2.000000     0.440000\n",
       "25%    2012.000000       3.342250e+04     5.000000     3.517500\n",
       "50%    2014.000000       5.260900e+04     5.000000     5.750000\n",
       "75%    2016.000000       7.240275e+04     5.000000    10.000000\n",
       "max    2019.000000       6.500000e+06    10.000000   160.000000"
      ]
     },
     "execution_count": 31,
     "metadata": {},
     "output_type": "execute_result"
    }
   ],
   "source": [
    "cars.describe()"
   ]
  },
  {
   "cell_type": "code",
   "execution_count": 32,
   "id": "c15595bf-6d29-459c-8db4-7bd0d8a5ad20",
   "metadata": {
    "scrolled": true,
    "tags": []
   },
   "outputs": [
    {
     "data": {
      "text/plain": [
       "2014    794\n",
       "2015    740\n",
       "2016    737\n",
       "2013    639\n",
       "2017    586\n",
       "2012    562\n",
       "2011    452\n",
       "2010    333\n",
       "2018    298\n",
       "2009    191\n",
       "2008    162\n",
       "2007    105\n",
       "2019    102\n",
       "2006     66\n",
       "2005     42\n",
       "2004     25\n",
       "2003     14\n",
       "2002     11\n",
       "2001      4\n",
       "2000      4\n",
       "1998      3\n",
       "1999      2\n",
       "Name: Year, dtype: int64"
      ]
     },
     "execution_count": 32,
     "metadata": {},
     "output_type": "execute_result"
    }
   ],
   "source": [
    "cars['Year'].value_counts()"
   ]
  },
  {
   "cell_type": "code",
   "execution_count": 33,
   "id": "f51f795c-4dc8-449e-a581-595a8abcd2f0",
   "metadata": {},
   "outputs": [
    {
     "data": {
      "text/plain": [
       "Mileage_N    5872\n",
       "Engine_N     5872\n",
       "Power_N      5872\n",
       "dtype: int64"
      ]
     },
     "execution_count": 33,
     "metadata": {},
     "output_type": "execute_result"
    }
   ],
   "source": [
    "cars.count()[['Mileage_N','Engine_N','Power_N']]"
   ]
  },
  {
   "cell_type": "code",
   "execution_count": 34,
   "id": "90990b92-6f66-4e42-a001-5c2408b9c446",
   "metadata": {},
   "outputs": [
    {
     "data": {
      "text/plain": [
       "0                 Maruti Wagon R LXI CNG\n",
       "1       Hyundai Creta 1.6 CRDi SX Option\n",
       "2                           Honda Jazz V\n",
       "3                      Maruti Ertiga VDI\n",
       "4        Audi A4 New 2.0 TDI Multitronic\n",
       "5        Hyundai EON LPG Era Plus Option\n",
       "6                 Nissan Micra Diesel XV\n",
       "7      Toyota Innova Crysta 2.8 GX AT 8S\n",
       "8    Volkswagen Vento Diesel Comfortline\n",
       "9         Tata Indica Vista Quadrajet LS\n",
       "Name: Name, dtype: object"
      ]
     },
     "execution_count": 34,
     "metadata": {},
     "output_type": "execute_result"
    }
   ],
   "source": [
    "cars['Name'].head(10)"
   ]
  },
  {
   "cell_type": "code",
   "execution_count": null,
   "id": "d5d791d4-4b28-42eb-8b32-b29cd5b244ae",
   "metadata": {},
   "outputs": [],
   "source": []
  },
  {
   "cell_type": "code",
   "execution_count": 35,
   "id": "18bfcb44-21cc-4953-9e16-e8f113e92e42",
   "metadata": {},
   "outputs": [
    {
     "data": {
      "text/plain": [
       "57"
      ]
     },
     "execution_count": 35,
     "metadata": {},
     "output_type": "execute_result"
    }
   ],
   "source": [
    "sum(cars['Name'].str.startswith('Land Rover'))"
   ]
  },
  {
   "cell_type": "code",
   "execution_count": 36,
   "id": "d2955f8b-b8db-411e-bf16-500055633ee4",
   "metadata": {},
   "outputs": [],
   "source": [
    "# cars['Name'].apply(lambda x:x.split('')[-1]).value_counts()"
   ]
  },
  {
   "cell_type": "code",
   "execution_count": 37,
   "id": "f71429b4-b3b4-4269-a620-bfd6865718c7",
   "metadata": {},
   "outputs": [
    {
     "data": {
      "text/plain": [
       "0          Maruti\n",
       "1         Hyundai\n",
       "2           Honda\n",
       "3          Maruti\n",
       "4            Audi\n",
       "          ...    \n",
       "6014       Maruti\n",
       "6015      Hyundai\n",
       "6016     Mahindra\n",
       "6017       Maruti\n",
       "6018    Chevrolet\n",
       "Name: Name, Length: 5872, dtype: object"
      ]
     },
     "execution_count": 37,
     "metadata": {},
     "output_type": "execute_result"
    }
   ],
   "source": [
    "cars['Name'].str.replace('Land Rover','Land-Rover').str.split().str.get(0)"
   ]
  },
  {
   "cell_type": "code",
   "execution_count": 38,
   "id": "628d9a76-d949-4bfd-bc7b-2afddeab9d9b",
   "metadata": {},
   "outputs": [],
   "source": [
    "cars.insert(1,'Brand',cars['Name'].str.replace('Land Rover','Land-Rover').str.split().str.get(0))"
   ]
  },
  {
   "cell_type": "code",
   "execution_count": 39,
   "id": "c1828ba3-c2f9-4cd6-8d91-646f81c28858",
   "metadata": {
    "scrolled": true,
    "tags": []
   },
   "outputs": [
    {
     "data": {
      "text/plain": [
       "0            Maruti\n",
       "1           Hyundai\n",
       "2             Honda\n",
       "3            Maruti\n",
       "4              Audi\n",
       "5           Hyundai\n",
       "6            Nissan\n",
       "7            Toyota\n",
       "8        Volkswagen\n",
       "9              Tata\n",
       "10           Maruti\n",
       "11            Honda\n",
       "12           Maruti\n",
       "13       Land-Rover\n",
       "14       Land-Rover\n",
       "15       Mitsubishi\n",
       "16            Honda\n",
       "17           Maruti\n",
       "18          Renault\n",
       "19    Mercedes-Benz\n",
       "20              BMW\n",
       "21           Maruti\n",
       "22             Audi\n",
       "23          Hyundai\n",
       "24       Volkswagen\n",
       "25            Honda\n",
       "26           Nissan\n",
       "27           Maruti\n",
       "28            Honda\n",
       "29           Toyota\n",
       "Name: Brand, dtype: object"
      ]
     },
     "execution_count": 39,
     "metadata": {},
     "output_type": "execute_result"
    }
   ],
   "source": [
    "cars['Brand'].head(30)"
   ]
  },
  {
   "cell_type": "code",
   "execution_count": 40,
   "id": "2e0d99d0-24c1-4cd3-85de-0ae47ebd785c",
   "metadata": {},
   "outputs": [
    {
     "data": {
      "text/html": [
       "<div>\n",
       "<style scoped>\n",
       "    .dataframe tbody tr th:only-of-type {\n",
       "        vertical-align: middle;\n",
       "    }\n",
       "\n",
       "    .dataframe tbody tr th {\n",
       "        vertical-align: top;\n",
       "    }\n",
       "\n",
       "    .dataframe thead th {\n",
       "        text-align: right;\n",
       "    }\n",
       "</style>\n",
       "<table border=\"1\" class=\"dataframe\">\n",
       "  <thead>\n",
       "    <tr style=\"text-align: right;\">\n",
       "      <th></th>\n",
       "      <th>Power_N</th>\n",
       "      <th>Brand</th>\n",
       "      <th>Engine_N</th>\n",
       "      <th>Mileage_N</th>\n",
       "      <th>Name</th>\n",
       "      <th>Location</th>\n",
       "      <th>Year</th>\n",
       "      <th>Kilometers_Driven</th>\n",
       "      <th>Fuel_Type</th>\n",
       "      <th>Transmission</th>\n",
       "      <th>Owner_Type</th>\n",
       "      <th>Seats</th>\n",
       "      <th>Price</th>\n",
       "    </tr>\n",
       "  </thead>\n",
       "  <tbody>\n",
       "    <tr>\n",
       "      <th>0</th>\n",
       "      <td>58.16</td>\n",
       "      <td>Maruti</td>\n",
       "      <td>998</td>\n",
       "      <td>26.6</td>\n",
       "      <td>Maruti Wagon R LXI CNG</td>\n",
       "      <td>Mumbai</td>\n",
       "      <td>2010</td>\n",
       "      <td>72000</td>\n",
       "      <td>CNG</td>\n",
       "      <td>Manual</td>\n",
       "      <td>First</td>\n",
       "      <td>5.0</td>\n",
       "      <td>1.75</td>\n",
       "    </tr>\n",
       "    <tr>\n",
       "      <th>1</th>\n",
       "      <td>126.2</td>\n",
       "      <td>Hyundai</td>\n",
       "      <td>1582</td>\n",
       "      <td>19.67</td>\n",
       "      <td>Hyundai Creta 1.6 CRDi SX Option</td>\n",
       "      <td>Pune</td>\n",
       "      <td>2015</td>\n",
       "      <td>41000</td>\n",
       "      <td>Diesel</td>\n",
       "      <td>Manual</td>\n",
       "      <td>First</td>\n",
       "      <td>5.0</td>\n",
       "      <td>12.50</td>\n",
       "    </tr>\n",
       "    <tr>\n",
       "      <th>2</th>\n",
       "      <td>88.7</td>\n",
       "      <td>Honda</td>\n",
       "      <td>1199</td>\n",
       "      <td>18.2</td>\n",
       "      <td>Honda Jazz V</td>\n",
       "      <td>Chennai</td>\n",
       "      <td>2011</td>\n",
       "      <td>46000</td>\n",
       "      <td>Petrol</td>\n",
       "      <td>Manual</td>\n",
       "      <td>First</td>\n",
       "      <td>5.0</td>\n",
       "      <td>4.50</td>\n",
       "    </tr>\n",
       "    <tr>\n",
       "      <th>3</th>\n",
       "      <td>88.76</td>\n",
       "      <td>Maruti</td>\n",
       "      <td>1248</td>\n",
       "      <td>20.77</td>\n",
       "      <td>Maruti Ertiga VDI</td>\n",
       "      <td>Chennai</td>\n",
       "      <td>2012</td>\n",
       "      <td>87000</td>\n",
       "      <td>Diesel</td>\n",
       "      <td>Manual</td>\n",
       "      <td>First</td>\n",
       "      <td>7.0</td>\n",
       "      <td>6.00</td>\n",
       "    </tr>\n",
       "    <tr>\n",
       "      <th>4</th>\n",
       "      <td>140.8</td>\n",
       "      <td>Audi</td>\n",
       "      <td>1968</td>\n",
       "      <td>15.2</td>\n",
       "      <td>Audi A4 New 2.0 TDI Multitronic</td>\n",
       "      <td>Coimbatore</td>\n",
       "      <td>2013</td>\n",
       "      <td>40670</td>\n",
       "      <td>Diesel</td>\n",
       "      <td>Automatic</td>\n",
       "      <td>Second</td>\n",
       "      <td>5.0</td>\n",
       "      <td>17.74</td>\n",
       "    </tr>\n",
       "  </tbody>\n",
       "</table>\n",
       "</div>"
      ],
      "text/plain": [
       "  Power_N    Brand Engine_N Mileage_N                              Name  \\\n",
       "0   58.16   Maruti      998      26.6            Maruti Wagon R LXI CNG   \n",
       "1   126.2  Hyundai     1582     19.67  Hyundai Creta 1.6 CRDi SX Option   \n",
       "2    88.7    Honda     1199      18.2                      Honda Jazz V   \n",
       "3   88.76   Maruti     1248     20.77                 Maruti Ertiga VDI   \n",
       "4   140.8     Audi     1968      15.2   Audi A4 New 2.0 TDI Multitronic   \n",
       "\n",
       "     Location  Year  Kilometers_Driven Fuel_Type Transmission Owner_Type  \\\n",
       "0      Mumbai  2010              72000       CNG       Manual      First   \n",
       "1        Pune  2015              41000    Diesel       Manual      First   \n",
       "2     Chennai  2011              46000    Petrol       Manual      First   \n",
       "3     Chennai  2012              87000    Diesel       Manual      First   \n",
       "4  Coimbatore  2013              40670    Diesel    Automatic     Second   \n",
       "\n",
       "   Seats  Price  \n",
       "0    5.0   1.75  \n",
       "1    5.0  12.50  \n",
       "2    5.0   4.50  \n",
       "3    7.0   6.00  \n",
       "4    5.0  17.74  "
      ]
     },
     "execution_count": 40,
     "metadata": {},
     "output_type": "execute_result"
    }
   ],
   "source": [
    "cars.head()"
   ]
  },
  {
   "cell_type": "code",
   "execution_count": 41,
   "id": "15fce152-6eef-4f69-84b7-696a7c60e75f",
   "metadata": {},
   "outputs": [
    {
     "data": {
      "text/plain": [
       "Power_N               370\n",
       "Brand                  30\n",
       "Engine_N              139\n",
       "Mileage_N             429\n",
       "Name                 1811\n",
       "Location               11\n",
       "Year                   22\n",
       "Kilometers_Driven    3038\n",
       "Fuel_Type               4\n",
       "Transmission            2\n",
       "Owner_Type              4\n",
       "Seats                   8\n",
       "Price                1364\n",
       "dtype: int64"
      ]
     },
     "execution_count": 41,
     "metadata": {},
     "output_type": "execute_result"
    }
   ],
   "source": [
    "cars.nunique()"
   ]
  },
  {
   "cell_type": "code",
   "execution_count": 42,
   "id": "81ac83b0-9e4c-4b63-89f6-0b7fa8cb64ab",
   "metadata": {},
   "outputs": [
    {
     "data": {
      "text/plain": [
       "Power_N               object\n",
       "Brand                 object\n",
       "Engine_N              object\n",
       "Mileage_N             object\n",
       "Name                  object\n",
       "Location              object\n",
       "Year                   int64\n",
       "Kilometers_Driven      int64\n",
       "Fuel_Type             object\n",
       "Transmission          object\n",
       "Owner_Type            object\n",
       "Seats                float64\n",
       "Price                float64\n",
       "dtype: object"
      ]
     },
     "execution_count": 42,
     "metadata": {},
     "output_type": "execute_result"
    }
   ],
   "source": [
    "cars.dtypes"
   ]
  },
  {
   "cell_type": "markdown",
   "id": "376294e6-d300-4925-af6d-80fe929320c4",
   "metadata": {},
   "source": [
    "# Feature Enginering"
   ]
  },
  {
   "cell_type": "markdown",
   "id": "fc9bf0bb-38fb-4d30-a6c4-c1750b583fe6",
   "metadata": {},
   "source": [
    "# converting datatype"
   ]
  },
  {
   "cell_type": "code",
   "execution_count": 43,
   "id": "94f3aa4e-c0ab-462f-984f-73981d4caa8b",
   "metadata": {},
   "outputs": [],
   "source": [
    "#converting object data type to category data type\n",
    "cars[\"Fuel_Type\"] = cars[\"Fuel_Type\"].astype(\"category\")\n",
    "cars[\"Transmission\"] = cars[\"Transmission\"].astype(\"category\")\n",
    "cars[\"Owner_Type\"] = cars[\"Owner_Type\"].astype(\"category\")\n",
    "#converting datatype  \n",
    "cars[\"Mileage_N\"] = cars[\"Mileage_N\"].astype(float)\n",
    "cars[\"Power_N\"] = cars[\"Power_N\"].astype(float)\n",
    "cars[\"Engine_N\"]=cars[\"Engine_N\"].astype(float)"
   ]
  },
  {
   "cell_type": "code",
   "execution_count": 44,
   "id": "a0723c3c-1dc7-4b38-8236-8fe22d757b3c",
   "metadata": {},
   "outputs": [
    {
     "data": {
      "text/plain": [
       "Power_N               float64\n",
       "Brand                  object\n",
       "Engine_N              float64\n",
       "Mileage_N             float64\n",
       "Name                   object\n",
       "Location               object\n",
       "Year                    int64\n",
       "Kilometers_Driven       int64\n",
       "Fuel_Type            category\n",
       "Transmission         category\n",
       "Owner_Type           category\n",
       "Seats                 float64\n",
       "Price                 float64\n",
       "dtype: object"
      ]
     },
     "execution_count": 44,
     "metadata": {},
     "output_type": "execute_result"
    }
   ],
   "source": [
    "cars.dtypes"
   ]
  },
  {
   "cell_type": "code",
   "execution_count": 45,
   "id": "8a9208d7-6a61-4914-bd9e-91dfd6d7bd19",
   "metadata": {},
   "outputs": [
    {
     "data": {
      "image/png": "[encoded data removed]",
      "text/plain": [
       "<Figure size 1440x1800 with 7 Axes>"
      ]
     },
     "metadata": {},
     "output_type": "display_data"
    }
   ],
   "source": [
    "plt.style.use('ggplot')\n",
    "#select all quantitative columns for checking the spread\n",
    "numeric_columns = cars.select_dtypes(include=np.number).columns.tolist()\n",
    "plt.figure(figsize=(20,25))\n",
    "\n",
    "for i, variable in enumerate(numeric_columns):\n",
    "                     plt.subplot(10,3,i+1)\n",
    "                       \n",
    "                     sns.distplot(cars[variable],kde=False,color='blue')\n",
    "                     plt.tight_layout()\n",
    "                     plt.title(variable)"
   ]
  },
  {
   "cell_type": "code",
   "execution_count": null,
   "id": "6970083a-54a9-4b54-a2cf-296e47e6c22d",
   "metadata": {},
   "outputs": [],
   "source": []
  },
  {
   "cell_type": "code",
   "execution_count": 46,
   "id": "d03a6ff8-bd43-42c7-8eb2-e5f0ebfae587",
   "metadata": {},
   "outputs": [],
   "source": [
    "# cat_columns=['Location','Fuel_Type','Transmission', 'Owner_Type'] #cars.select_dtypes(exclude=np.number).columns.tolist()\n",
    "\n",
    "# plt.figure(figsize=(15,21))\n",
    "\n",
    "# for i, variable in enumerate(cat_columns):\n",
    "#                      plt.subplot(4,2,i+1)\n",
    "#                      order = cars[variable].value_counts(ascending=False).index    \n",
    "#                      ax=sns.countplot(x=cars[variable], data=cars , order=order ,palette='viridis')\n",
    "#                      for p in ax.patches:\n",
    "#                            percentage = '{:.1f}%'.format(100 * p.get_height()/len(cars[variable]))\n",
    "#                            x = p.get_x() + p.get_width() / 2 - 0.05\n",
    "#                            y = p.get_y() + p.get_height()\n",
    "#                            plt.annotate(percentage, (x, y),ha='center')\n",
    "#                      plt.xticks(rotation=90)\n",
    "#                      plt.tight_layout()\n",
    "#                      plt.title(variable)"
   ]
  },
  {
   "cell_type": "code",
   "execution_count": null,
   "id": "99207c75-acc6-455c-b63c-623e58a81164",
   "metadata": {},
   "outputs": [],
   "source": []
  },
  {
   "cell_type": "markdown",
   "id": "97f37bef-d6ef-4cb6-a54e-ad32e075f75e",
   "metadata": {},
   "source": [
    "* Car Profile"
   ]
  },
  {
   "cell_type": "code",
   "execution_count": 47,
   "id": "e18b2422-0af8-4754-b88b-c31a7c0ad61d",
   "metadata": {},
   "outputs": [],
   "source": [
    "numeric_columns= numeric_columns = cars.select_dtypes(include=np.number).columns.tolist()\n",
    "plt.figure(figsize=(13,17))\n",
    "\n",
    "for i, variable in enumerate(numeric_columns):\n",
    "                     plt.subplot(5,2,i+1)\n",
    "                     sns.scatterplot(x=cars[variable],y=cars['Price']).set(title='Price vs '+ variable)\n",
    "                     #plt.xticks(rotation=90)\n",
    "                     plt.tight_layout()"
   ]
  },
  {
   "cell_type": "code",
   "execution_count": null,
   "id": "97ad2b16-90f6-49dd-904a-df77f7d44e49",
   "metadata": {},
   "outputs": [],
   "source": []
  },
  {
   "cell_type": "markdown",
   "id": "89ada4cc-931f-4173-aca7-00f73c159481",
   "metadata": {},
   "source": [
    "# Bivariate & Multivariate Analysis"
   ]
  },
  {
   "cell_type": "code",
   "execution_count": 48,
   "id": "0c25c24f-2b58-41a0-a4d1-15013e0dea65",
   "metadata": {},
   "outputs": [],
   "source": [
    "plt.figure(figsize=(10,8))\n",
    "sns.heatmap(cars.corr(),annot=True)\n",
    "plt.show()"
   ]
  },
  {
   "cell_type": "code",
   "execution_count": 49,
   "id": "e38d069c-32df-4af8-b9ed-a1965fb3076f",
   "metadata": {},
   "outputs": [],
   "source": [
    "# Observations\n",
    "\n",
    "# -->Engine has strong positive correlation to Power [0.86].\n",
    "# -->Price has positive correlation to Engine[0.66] as well Power [0.77].\n",
    "# -->Mileage is negative correlated to Engine,Power,Price.\n",
    "# -->Kilometer driven doesnt impact Price"
   ]
  },
  {
   "cell_type": "code",
   "execution_count": 50,
   "id": "7e8f3d6f-9e4a-4397-a697-d75816c0ace5",
   "metadata": {},
   "outputs": [],
   "source": [
    "sns.pairplot(data=cars , corner=True)\n",
    "plt.show()"
   ]
  },
  {
   "cell_type": "code",
   "execution_count": 51,
   "id": "e2be1d7c-618a-48f2-ad53-6c8929f932a7",
   "metadata": {},
   "outputs": [],
   "source": [
    "# Observations\n",
    "\n",
    "# --->>Same observation about correlation as seen in heatmap.\n",
    "\n",
    "# -->Kilometer driven doesnot have impact on Price .\n",
    "# -->As power increase mileage decrease.\n",
    "# -->Car with recent make sell at higher prices.\n",
    "# -->Engine and Power increase , price of the car seems to increase."
   ]
  },
  {
   "cell_type": "markdown",
   "id": "02025020-8e17-4294-8cc6-a1bef02ed1ce",
   "metadata": {},
   "source": [
    "# Variables that are correlated with Price variable"
   ]
  },
  {
   "cell_type": "markdown",
   "id": "f50b6aeb-5f39-404f-bed0-372414468c21",
   "metadata": {},
   "source": [
    "* Price Vs Engine Vs Transmission"
   ]
  },
  {
   "cell_type": "code",
   "execution_count": 52,
   "id": "230fec6a-a52a-4cb3-81da-035772bf07b7",
   "metadata": {},
   "outputs": [],
   "source": [
    "# understand relation ship of Engine vs Price and Transmimssion\n",
    "\n",
    "plt.figure(figsize=(10,7))\n",
    "plt.title(\"Price VS Engine based on Transmission\")\n",
    "sns.scatterplot(y='Engine', x='Price', hue='Transmission', data=cars)"
   ]
  },
  {
   "cell_type": "markdown",
   "id": "2e436065-0137-4e6a-ad84-0a13030b8fb6",
   "metadata": {},
   "source": [
    "* Price Vs Power vs Transmission"
   ]
  },
  {
   "cell_type": "code",
   "execution_count": 53,
   "id": "d35d7b3d-8d2d-44c2-8564-ac61bfec462d",
   "metadata": {},
   "outputs": [],
   "source": [
    " #understand relationship betweem Price and Power\n",
    "    \n",
    "plt.figure(figsize=(10,7))\n",
    "plt.title(\"Price vs Power based on Transmission\")\n",
    "sns.scatterplot(y='Power', x='Price', hue='Transmission', data=cars)"
   ]
  },
  {
   "cell_type": "markdown",
   "id": "14f0d6fd-b693-4cb0-8108-77e5728b4060",
   "metadata": {},
   "source": [
    "* Price Vs Mileage Vs Transmission"
   ]
  },
  {
   "cell_type": "code",
   "execution_count": 54,
   "id": "b099b12a-c2e2-4e63-aa1f-b666276948b2",
   "metadata": {},
   "outputs": [],
   "source": [
    "# Understand the relationships  between mileage and Price\n",
    "\n",
    "sns.scatterplot(y='Mileage', x='Price', hue='Transmission', data=cars)"
   ]
  },
  {
   "cell_type": "markdown",
   "id": "e2d89a0b-9d56-46b3-89bb-43a95b54c5a8",
   "metadata": {},
   "source": [
    "* Price Vs Year Vs Transmission"
   ]
  },
  {
   "cell_type": "code",
   "execution_count": 55,
   "id": "19389d87-4ddb-49b0-9004-07f456529536",
   "metadata": {},
   "outputs": [],
   "source": [
    "# Impact of years on price \n",
    "\n",
    "plt.figure(figsize=(10,7))\n",
    "plt.title(\"Price based on manufacturing Year of model\")\n",
    "sns.lineplot(x='Year', y='Price',hue='Transmission',\n",
    "             data=cars)"
   ]
  },
  {
   "cell_type": "markdown",
   "id": "7fc7c481-f3e9-4edc-a15a-e307e1a54ecc",
   "metadata": {},
   "source": [
    "* Price Vs Year VS Fuel Type"
   ]
  },
  {
   "cell_type": "code",
   "execution_count": 56,
   "id": "3aa4cae3-1637-4b8c-9413-19d66aa3776b",
   "metadata": {},
   "outputs": [],
   "source": [
    "# Impact of years on price\n",
    "\n",
    "plt.figure(figsize=(10,7))\n",
    "plt.title(\"Price Vs Year VS FuelType\")\n",
    "sns.lineplot(x='Year', y='Price',hue='Fuel_Type',\n",
    "             data=cars)"
   ]
  },
  {
   "cell_type": "markdown",
   "id": "56277018-ca5d-4045-ad6f-62a9295f4186",
   "metadata": {},
   "source": [
    "* Year Vs Price Vs Owner_Type"
   ]
  },
  {
   "cell_type": "code",
   "execution_count": 57,
   "id": "2e75e567-2bc5-40c3-972e-45a529742827",
   "metadata": {},
   "outputs": [],
   "source": [
    "plt.figure(figsize=(10,7))\n",
    "plt.title(\"Price Vs Year VS Owner_Type\")\n",
    "sns.lineplot(x='Year', y='Price',hue='Owner_Type',\n",
    "             data=cars)"
   ]
  },
  {
   "cell_type": "markdown",
   "id": "e01fcf1e-66c4-422f-8a35-52333a083046",
   "metadata": {},
   "source": [
    "* Price Vs Mileage vs Fuel_type"
   ]
  },
  {
   "cell_type": "code",
   "execution_count": 58,
   "id": "a51f1d6f-e1cf-49c9-8dfb-422b664c709c",
   "metadata": {},
   "outputs": [],
   "source": [
    "# Understand relationships  between price and mileage\n",
    "\n",
    "plt.figure(figsize=(10,7))\n",
    "plt.title(\"Price Vs Mileage\")\n",
    "sns.scatterplot(y='Price', x='Mileage', hue='Fuel_Type', data=cars)"
   ]
  },
  {
   "cell_type": "markdown",
   "id": "ef24ff26-1315-4d40-8f42-b9647f97a86e",
   "metadata": {},
   "source": [
    "* Price Vs Seat"
   ]
  },
  {
   "cell_type": "code",
   "execution_count": 59,
   "id": "03cecbeb-b82d-4bf9-a7aa-2831a6c4b5aa",
   "metadata": {},
   "outputs": [],
   "source": [
    "#Price and seats \n",
    "\n",
    "plt.figure(figsize=(15,10))\n",
    "sns.set(font_scale=2)\n",
    "sns.barplot(x='Seats', y='Price', data=cars)\n",
    "plt.grid()"
   ]
  },
  {
   "cell_type": "markdown",
   "id": "2733e1eb-28d8-49a4-bd6e-ad2cf2e85cf1",
   "metadata": {},
   "source": [
    "* Price Vs Location"
   ]
  },
  {
   "cell_type": "code",
   "execution_count": 60,
   "id": "d8fd6802-5063-4683-9e3b-5b32b508e2c4",
   "metadata": {},
   "outputs": [],
   "source": [
    "#Price and LOcation \n",
    "\n",
    "plt.figure(figsize=(20,15))\n",
    "sns.set(font_scale=2)\n",
    "sns.barplot(x='Location', y='Price', data=cars)\n",
    "plt.grid()"
   ]
  },
  {
   "cell_type": "markdown",
   "id": "f3a9176e-70c8-4bef-91fd-843d176d450a",
   "metadata": {},
   "source": [
    "* Price Vs Name"
   ]
  },
  {
   "cell_type": "code",
   "execution_count": 61,
   "id": "21ba68db-3242-4fae-9222-d38add757313",
   "metadata": {},
   "outputs": [],
   "source": [
    "#Price and band \n",
    "\n",
    "plt.figure(figsize=(20,15))\n",
    "sns.set(font_scale=2)\n",
    "sns.boxplot(x='Price', y='Name', data=cars)\n",
    "plt.grid()"
   ]
  },
  {
   "cell_type": "code",
   "execution_count": 62,
   "id": "504e8b70-f46b-4288-baa1-790d66df06b8",
   "metadata": {},
   "outputs": [],
   "source": [
    "sns.relplot(data=cars, y='Price',x='Mileage',hue='Transmission',aspect=2,height=5)"
   ]
  },
  {
   "cell_type": "code",
   "execution_count": 63,
   "id": "098729a4-ffbe-4bf3-aa0f-2826295a7df9",
   "metadata": {},
   "outputs": [],
   "source": [
    "sns.relplot(data=cars, y='Price',x='Year',col='Owner_Type',hue='Transmission',aspect=1,height=5)"
   ]
  },
  {
   "cell_type": "code",
   "execution_count": 64,
   "id": "775c97bd-0598-4ac3-b1d3-92b261f81df1",
   "metadata": {},
   "outputs": [],
   "source": [
    "sns.relplot(data=cars, y='Price',x='Engine',col='Transmission',aspect=1,height=6,hue=\"Fuel_Type\")"
   ]
  },
  {
   "cell_type": "code",
   "execution_count": 65,
   "id": "40bc245d-2237-4524-a70e-aac0e47482ea",
   "metadata": {},
   "outputs": [],
   "source": [
    "sns.relplot(data=cars, y='Price',x='Year',col='Transmission',aspect=1,height=6)"
   ]
  },
  {
   "cell_type": "markdown",
   "id": "2935f706-e9a9-4478-aed8-be53ab0967fc",
   "metadata": {},
   "source": [
    "** Insights based on EDA"
   ]
  },
  {
   "cell_type": "code",
   "execution_count": 66,
   "id": "b051b90b-8719-463e-ac8f-38539af5ba6c",
   "metadata": {},
   "outputs": [],
   "source": [
    "# Observations\n",
    "\n",
    "# -->Expensive cars are in Coimbatore and Banglore.\n",
    "# -->2 Seater cars are more expensive.\n",
    "# -->Deisel Fuel type car are more expensive compared to other fuel type.\n",
    "# -->As expected, Older model are sold cheaper compared to latest model\n",
    "# -->Automatic transmission vehicle have a higher price than manual transmission vehicles.\n",
    "# -->Vehicles with more engine capacity have higher prices.\n",
    "# -->Price decreases as number of owner increases.\n",
    "# -->Automatic transmission require high engine and power.\n",
    "# -->Prices for Cars with fuel type as Deisel has increased with recent models\n",
    "# -->Engine,Power, how old the car his, Mileage,Fuel type,location,Transmission effect the price."
   ]
  },
  {
   "cell_type": "code",
   "execution_count": 67,
   "id": "e9ab7bbe-4853-47a8-bef3-013af41e861e",
   "metadata": {},
   "outputs": [],
   "source": [
    "# check distrubution if skewed. If distrubution is skewed , it is advice to use log transform\n",
    "\n",
    "cols_to_log = cars.select_dtypes(include=np.number).columns.tolist()\n",
    "for colname in cols_to_log:\n",
    "    sns.distplot(cars[colname], kde=True)\n",
    "    plt.show()"
   ]
  },
  {
   "cell_type": "code",
   "execution_count": null,
   "id": "c0648063-d284-4796-a965-0b4f23bd884c",
   "metadata": {},
   "outputs": [],
   "source": []
  },
  {
   "cell_type": "code",
   "execution_count": 68,
   "id": "13742f80-b80e-4aef-9d93-e81d4222ff3e",
   "metadata": {},
   "outputs": [],
   "source": [
    "# sns.displot(data=df ,x='Price',hue='Transmission',aspect=3,palette=('blue','orange'))"
   ]
  },
  {
   "cell_type": "code",
   "execution_count": 69,
   "id": "a8e92b49-684b-4c71-a661-d09bdd09ed55",
   "metadata": {},
   "outputs": [],
   "source": [
    "# sns.countplot(data=df,x='Price',hue='Transmission')"
   ]
  },
  {
   "cell_type": "code",
   "execution_count": null,
   "id": "fb772c2b-94b1-440e-8c97-732858826a98",
   "metadata": {},
   "outputs": [],
   "source": []
  },
  {
   "cell_type": "code",
   "execution_count": 70,
   "id": "a657eecb-11de-45a2-a100-cfad81684945",
   "metadata": {},
   "outputs": [],
   "source": [
    "# sns.displot(data=df,x='Price',hue='Owner_Type',aspect=3,palette=('red','blue','green','pink'))"
   ]
  },
  {
   "cell_type": "code",
   "execution_count": 71,
   "id": "060afec0-2ee8-49f0-b140-6360bf71b908",
   "metadata": {},
   "outputs": [],
   "source": [
    "# sns.displot(data=df ,x='Price', hue='Fuel_Type',aspect=3)"
   ]
  },
  {
   "cell_type": "code",
   "execution_count": 72,
   "id": "c65e0046-6598-4a33-a418-cf97fb69597f",
   "metadata": {},
   "outputs": [],
   "source": [
    "# sns.displot(data=df,x='Price',hue='Seats',aspect=3,)"
   ]
  },
  {
   "cell_type": "code",
   "execution_count": null,
   "id": "c35d893e-c3b0-4fc4-87d2-d68f29e8940b",
   "metadata": {},
   "outputs": [],
   "source": []
  },
  {
   "cell_type": "code",
   "execution_count": 73,
   "id": "e4bdb47b-aed2-4bd8-a27c-a97ccb32b493",
   "metadata": {},
   "outputs": [],
   "source": [
    "# sns.pairplot(data=df,kind='scatter')"
   ]
  },
  {
   "cell_type": "code",
   "execution_count": 74,
   "id": "f2b34cdf-4fc3-436c-99c9-e32d4b0cac8b",
   "metadata": {},
   "outputs": [],
   "source": [
    "# sns.pairplot(df)"
   ]
  },
  {
   "cell_type": "code",
   "execution_count": 75,
   "id": "fb1b9e2e-5815-4ef6-893f-175010efbc60",
   "metadata": {},
   "outputs": [
    {
     "data": {
      "text/plain": [
       "Power_N               368\n",
       "Brand                  30\n",
       "Engine_N              139\n",
       "Mileage_N             429\n",
       "Name                 1811\n",
       "Location               11\n",
       "Year                   22\n",
       "Kilometers_Driven    3038\n",
       "Fuel_Type               4\n",
       "Transmission            2\n",
       "Owner_Type              4\n",
       "Seats                   8\n",
       "Price                1364\n",
       "dtype: int64"
      ]
     },
     "execution_count": 75,
     "metadata": {},
     "output_type": "execute_result"
    }
   ],
   "source": [
    "cars.nunique()"
   ]
  },
  {
   "cell_type": "code",
   "execution_count": 76,
   "id": "9e8bfa53-3c2d-4f9c-949a-4156817ea582",
   "metadata": {},
   "outputs": [
    {
     "data": {
      "text/plain": [
       "Index(['Power_N', 'Brand', 'Engine_N', 'Mileage_N', 'Name', 'Location', 'Year',\n",
       "       'Kilometers_Driven', 'Fuel_Type', 'Transmission', 'Owner_Type', 'Seats',\n",
       "       'Price'],\n",
       "      dtype='object')"
      ]
     },
     "execution_count": 76,
     "metadata": {},
     "output_type": "execute_result"
    }
   ],
   "source": [
    "cars.columns"
   ]
  },
  {
   "cell_type": "code",
   "execution_count": 77,
   "id": "ed4315cd-8785-4805-b7de-cf4a2b6189dc",
   "metadata": {},
   "outputs": [],
   "source": [
    "# df['Mileage'] = pd.to_numeric(df['Mileage'])\n",
    "# df['Engine'] = pd.to_numeric(df['Engine'])\n",
    "# df['Power'] = pd.to_numeric(df['Power'])\n",
    "# df['Mileage'] = pd.to_numeric(df['Mileage'])"
   ]
  },
  {
   "cell_type": "markdown",
   "id": "3363f5dc-e720-40e6-89c6-1d0c7a34cb9e",
   "metadata": {},
   "source": [
    "# Model Building"
   ]
  },
  {
   "cell_type": "markdown",
   "id": "2906faf9-a1a8-4f82-b54a-0991f53563b6",
   "metadata": {},
   "source": [
    "# Feature Selection"
   ]
  },
  {
   "cell_type": "code",
   "execution_count": 78,
   "id": "55a851d7-71e2-4b6b-8561-8746d561d8bf",
   "metadata": {},
   "outputs": [
    {
     "data": {
      "text/html": [
       "<div>\n",
       "<style scoped>\n",
       "    .dataframe tbody tr th:only-of-type {\n",
       "        vertical-align: middle;\n",
       "    }\n",
       "\n",
       "    .dataframe tbody tr th {\n",
       "        vertical-align: top;\n",
       "    }\n",
       "\n",
       "    .dataframe thead th {\n",
       "        text-align: right;\n",
       "    }\n",
       "</style>\n",
       "<table border=\"1\" class=\"dataframe\">\n",
       "  <thead>\n",
       "    <tr style=\"text-align: right;\">\n",
       "      <th></th>\n",
       "      <th>Power_N</th>\n",
       "      <th>Engine_N</th>\n",
       "      <th>Mileage_N</th>\n",
       "      <th>Year</th>\n",
       "      <th>Kilometers_Driven</th>\n",
       "      <th>Seats</th>\n",
       "      <th>Price</th>\n",
       "      <th>Brand_Audi</th>\n",
       "      <th>Brand_BMW</th>\n",
       "      <th>Brand_Bentley</th>\n",
       "      <th>...</th>\n",
       "      <th>Location_Kolkata</th>\n",
       "      <th>Location_Mumbai</th>\n",
       "      <th>Location_Pune</th>\n",
       "      <th>Fuel_Type_Diesel</th>\n",
       "      <th>Fuel_Type_LPG</th>\n",
       "      <th>Fuel_Type_Petrol</th>\n",
       "      <th>Transmission_Manual</th>\n",
       "      <th>Owner_Type_Fourth &amp; Above</th>\n",
       "      <th>Owner_Type_Second</th>\n",
       "      <th>Owner_Type_Third</th>\n",
       "    </tr>\n",
       "  </thead>\n",
       "  <tbody>\n",
       "    <tr>\n",
       "      <th>0</th>\n",
       "      <td>58.16</td>\n",
       "      <td>998.0</td>\n",
       "      <td>26.60</td>\n",
       "      <td>2010</td>\n",
       "      <td>72000</td>\n",
       "      <td>5.0</td>\n",
       "      <td>1.75</td>\n",
       "      <td>0</td>\n",
       "      <td>0</td>\n",
       "      <td>0</td>\n",
       "      <td>...</td>\n",
       "      <td>0</td>\n",
       "      <td>1</td>\n",
       "      <td>0</td>\n",
       "      <td>0</td>\n",
       "      <td>0</td>\n",
       "      <td>0</td>\n",
       "      <td>1</td>\n",
       "      <td>0</td>\n",
       "      <td>0</td>\n",
       "      <td>0</td>\n",
       "    </tr>\n",
       "    <tr>\n",
       "      <th>1</th>\n",
       "      <td>126.20</td>\n",
       "      <td>1582.0</td>\n",
       "      <td>19.67</td>\n",
       "      <td>2015</td>\n",
       "      <td>41000</td>\n",
       "      <td>5.0</td>\n",
       "      <td>12.50</td>\n",
       "      <td>0</td>\n",
       "      <td>0</td>\n",
       "      <td>0</td>\n",
       "      <td>...</td>\n",
       "      <td>0</td>\n",
       "      <td>0</td>\n",
       "      <td>1</td>\n",
       "      <td>1</td>\n",
       "      <td>0</td>\n",
       "      <td>0</td>\n",
       "      <td>1</td>\n",
       "      <td>0</td>\n",
       "      <td>0</td>\n",
       "      <td>0</td>\n",
       "    </tr>\n",
       "    <tr>\n",
       "      <th>2</th>\n",
       "      <td>88.70</td>\n",
       "      <td>1199.0</td>\n",
       "      <td>18.20</td>\n",
       "      <td>2011</td>\n",
       "      <td>46000</td>\n",
       "      <td>5.0</td>\n",
       "      <td>4.50</td>\n",
       "      <td>0</td>\n",
       "      <td>0</td>\n",
       "      <td>0</td>\n",
       "      <td>...</td>\n",
       "      <td>0</td>\n",
       "      <td>0</td>\n",
       "      <td>0</td>\n",
       "      <td>0</td>\n",
       "      <td>0</td>\n",
       "      <td>1</td>\n",
       "      <td>1</td>\n",
       "      <td>0</td>\n",
       "      <td>0</td>\n",
       "      <td>0</td>\n",
       "    </tr>\n",
       "    <tr>\n",
       "      <th>3</th>\n",
       "      <td>88.76</td>\n",
       "      <td>1248.0</td>\n",
       "      <td>20.77</td>\n",
       "      <td>2012</td>\n",
       "      <td>87000</td>\n",
       "      <td>7.0</td>\n",
       "      <td>6.00</td>\n",
       "      <td>0</td>\n",
       "      <td>0</td>\n",
       "      <td>0</td>\n",
       "      <td>...</td>\n",
       "      <td>0</td>\n",
       "      <td>0</td>\n",
       "      <td>0</td>\n",
       "      <td>1</td>\n",
       "      <td>0</td>\n",
       "      <td>0</td>\n",
       "      <td>1</td>\n",
       "      <td>0</td>\n",
       "      <td>0</td>\n",
       "      <td>0</td>\n",
       "    </tr>\n",
       "    <tr>\n",
       "      <th>4</th>\n",
       "      <td>140.80</td>\n",
       "      <td>1968.0</td>\n",
       "      <td>15.20</td>\n",
       "      <td>2013</td>\n",
       "      <td>40670</td>\n",
       "      <td>5.0</td>\n",
       "      <td>17.74</td>\n",
       "      <td>1</td>\n",
       "      <td>0</td>\n",
       "      <td>0</td>\n",
       "      <td>...</td>\n",
       "      <td>0</td>\n",
       "      <td>0</td>\n",
       "      <td>0</td>\n",
       "      <td>1</td>\n",
       "      <td>0</td>\n",
       "      <td>0</td>\n",
       "      <td>0</td>\n",
       "      <td>0</td>\n",
       "      <td>1</td>\n",
       "      <td>0</td>\n",
       "    </tr>\n",
       "    <tr>\n",
       "      <th>...</th>\n",
       "      <td>...</td>\n",
       "      <td>...</td>\n",
       "      <td>...</td>\n",
       "      <td>...</td>\n",
       "      <td>...</td>\n",
       "      <td>...</td>\n",
       "      <td>...</td>\n",
       "      <td>...</td>\n",
       "      <td>...</td>\n",
       "      <td>...</td>\n",
       "      <td>...</td>\n",
       "      <td>...</td>\n",
       "      <td>...</td>\n",
       "      <td>...</td>\n",
       "      <td>...</td>\n",
       "      <td>...</td>\n",
       "      <td>...</td>\n",
       "      <td>...</td>\n",
       "      <td>...</td>\n",
       "      <td>...</td>\n",
       "      <td>...</td>\n",
       "    </tr>\n",
       "    <tr>\n",
       "      <th>6014</th>\n",
       "      <td>74.00</td>\n",
       "      <td>1248.0</td>\n",
       "      <td>28.40</td>\n",
       "      <td>2014</td>\n",
       "      <td>27365</td>\n",
       "      <td>5.0</td>\n",
       "      <td>4.75</td>\n",
       "      <td>0</td>\n",
       "      <td>0</td>\n",
       "      <td>0</td>\n",
       "      <td>...</td>\n",
       "      <td>0</td>\n",
       "      <td>0</td>\n",
       "      <td>0</td>\n",
       "      <td>1</td>\n",
       "      <td>0</td>\n",
       "      <td>0</td>\n",
       "      <td>1</td>\n",
       "      <td>0</td>\n",
       "      <td>0</td>\n",
       "      <td>0</td>\n",
       "    </tr>\n",
       "    <tr>\n",
       "      <th>6015</th>\n",
       "      <td>71.00</td>\n",
       "      <td>1120.0</td>\n",
       "      <td>24.40</td>\n",
       "      <td>2015</td>\n",
       "      <td>100000</td>\n",
       "      <td>5.0</td>\n",
       "      <td>4.00</td>\n",
       "      <td>0</td>\n",
       "      <td>0</td>\n",
       "      <td>0</td>\n",
       "      <td>...</td>\n",
       "      <td>0</td>\n",
       "      <td>0</td>\n",
       "      <td>0</td>\n",
       "      <td>1</td>\n",
       "      <td>0</td>\n",
       "      <td>0</td>\n",
       "      <td>1</td>\n",
       "      <td>0</td>\n",
       "      <td>0</td>\n",
       "      <td>0</td>\n",
       "    </tr>\n",
       "    <tr>\n",
       "      <th>6016</th>\n",
       "      <td>112.00</td>\n",
       "      <td>2498.0</td>\n",
       "      <td>14.00</td>\n",
       "      <td>2012</td>\n",
       "      <td>55000</td>\n",
       "      <td>8.0</td>\n",
       "      <td>2.90</td>\n",
       "      <td>0</td>\n",
       "      <td>0</td>\n",
       "      <td>0</td>\n",
       "      <td>...</td>\n",
       "      <td>0</td>\n",
       "      <td>0</td>\n",
       "      <td>0</td>\n",
       "      <td>1</td>\n",
       "      <td>0</td>\n",
       "      <td>0</td>\n",
       "      <td>1</td>\n",
       "      <td>0</td>\n",
       "      <td>1</td>\n",
       "      <td>0</td>\n",
       "    </tr>\n",
       "    <tr>\n",
       "      <th>6017</th>\n",
       "      <td>67.10</td>\n",
       "      <td>998.0</td>\n",
       "      <td>18.90</td>\n",
       "      <td>2013</td>\n",
       "      <td>46000</td>\n",
       "      <td>5.0</td>\n",
       "      <td>2.65</td>\n",
       "      <td>0</td>\n",
       "      <td>0</td>\n",
       "      <td>0</td>\n",
       "      <td>...</td>\n",
       "      <td>1</td>\n",
       "      <td>0</td>\n",
       "      <td>0</td>\n",
       "      <td>0</td>\n",
       "      <td>0</td>\n",
       "      <td>1</td>\n",
       "      <td>1</td>\n",
       "      <td>0</td>\n",
       "      <td>0</td>\n",
       "      <td>0</td>\n",
       "    </tr>\n",
       "    <tr>\n",
       "      <th>6018</th>\n",
       "      <td>57.60</td>\n",
       "      <td>936.0</td>\n",
       "      <td>25.44</td>\n",
       "      <td>2011</td>\n",
       "      <td>47000</td>\n",
       "      <td>5.0</td>\n",
       "      <td>2.50</td>\n",
       "      <td>0</td>\n",
       "      <td>0</td>\n",
       "      <td>0</td>\n",
       "      <td>...</td>\n",
       "      <td>0</td>\n",
       "      <td>0</td>\n",
       "      <td>0</td>\n",
       "      <td>1</td>\n",
       "      <td>0</td>\n",
       "      <td>0</td>\n",
       "      <td>1</td>\n",
       "      <td>0</td>\n",
       "      <td>0</td>\n",
       "      <td>0</td>\n",
       "    </tr>\n",
       "  </tbody>\n",
       "</table>\n",
       "<p>5872 rows × 1863 columns</p>\n",
       "</div>"
      ],
      "text/plain": [
       "      Power_N  Engine_N  Mileage_N  Year  Kilometers_Driven  Seats  Price  \\\n",
       "0       58.16     998.0      26.60  2010              72000    5.0   1.75   \n",
       "1      126.20    1582.0      19.67  2015              41000    5.0  12.50   \n",
       "2       88.70    1199.0      18.20  2011              46000    5.0   4.50   \n",
       "3       88.76    1248.0      20.77  2012              87000    7.0   6.00   \n",
       "4      140.80    1968.0      15.20  2013              40670    5.0  17.74   \n",
       "...       ...       ...        ...   ...                ...    ...    ...   \n",
       "6014    74.00    1248.0      28.40  2014              27365    5.0   4.75   \n",
       "6015    71.00    1120.0      24.40  2015             100000    5.0   4.00   \n",
       "6016   112.00    2498.0      14.00  2012              55000    8.0   2.90   \n",
       "6017    67.10     998.0      18.90  2013              46000    5.0   2.65   \n",
       "6018    57.60     936.0      25.44  2011              47000    5.0   2.50   \n",
       "\n",
       "      Brand_Audi  Brand_BMW  Brand_Bentley  ...  Location_Kolkata  \\\n",
       "0              0          0              0  ...                 0   \n",
       "1              0          0              0  ...                 0   \n",
       "2              0          0              0  ...                 0   \n",
       "3              0          0              0  ...                 0   \n",
       "4              1          0              0  ...                 0   \n",
       "...          ...        ...            ...  ...               ...   \n",
       "6014           0          0              0  ...                 0   \n",
       "6015           0          0              0  ...                 0   \n",
       "6016           0          0              0  ...                 0   \n",
       "6017           0          0              0  ...                 1   \n",
       "6018           0          0              0  ...                 0   \n",
       "\n",
       "      Location_Mumbai  Location_Pune  Fuel_Type_Diesel  Fuel_Type_LPG  \\\n",
       "0                   1              0                 0              0   \n",
       "1                   0              1                 1              0   \n",
       "2                   0              0                 0              0   \n",
       "3                   0              0                 1              0   \n",
       "4                   0              0                 1              0   \n",
       "...               ...            ...               ...            ...   \n",
       "6014                0              0                 1              0   \n",
       "6015                0              0                 1              0   \n",
       "6016                0              0                 1              0   \n",
       "6017                0              0                 0              0   \n",
       "6018                0              0                 1              0   \n",
       "\n",
       "      Fuel_Type_Petrol  Transmission_Manual  Owner_Type_Fourth & Above  \\\n",
       "0                    0                    1                          0   \n",
       "1                    0                    1                          0   \n",
       "2                    1                    1                          0   \n",
       "3                    0                    1                          0   \n",
       "4                    0                    0                          0   \n",
       "...                ...                  ...                        ...   \n",
       "6014                 0                    1                          0   \n",
       "6015                 0                    1                          0   \n",
       "6016                 0                    1                          0   \n",
       "6017                 1                    1                          0   \n",
       "6018                 0                    1                          0   \n",
       "\n",
       "      Owner_Type_Second  Owner_Type_Third  \n",
       "0                     0                 0  \n",
       "1                     0                 0  \n",
       "2                     0                 0  \n",
       "3                     0                 0  \n",
       "4                     1                 0  \n",
       "...                 ...               ...  \n",
       "6014                  0                 0  \n",
       "6015                  0                 0  \n",
       "6016                  1                 0  \n",
       "6017                  0                 0  \n",
       "6018                  0                 0  \n",
       "\n",
       "[5872 rows x 1863 columns]"
      ]
     },
     "execution_count": 78,
     "metadata": {},
     "output_type": "execute_result"
    }
   ],
   "source": [
    "cars = pd.get_dummies(cars,drop_first=True)\n",
    "cars"
   ]
  },
  {
   "cell_type": "code",
   "execution_count": 79,
   "id": "9db52d78-7040-4a3a-90e1-2d7670c263ad",
   "metadata": {},
   "outputs": [
    {
     "data": {
      "text/plain": [
       "(5872, 1863)"
      ]
     },
     "execution_count": 79,
     "metadata": {},
     "output_type": "execute_result"
    }
   ],
   "source": [
    "cars.shape"
   ]
  },
  {
   "cell_type": "code",
   "execution_count": 80,
   "id": "6b01585a-04ed-4d63-8e3b-b958cf29d196",
   "metadata": {},
   "outputs": [],
   "source": [
    "x = cars.drop('Price',axis=1)\n",
    "y = cars['Price']"
   ]
  },
  {
   "cell_type": "code",
   "execution_count": null,
   "id": "20506b84-d337-460a-9120-deedcff2b999",
   "metadata": {},
   "outputs": [],
   "source": []
  },
  {
   "cell_type": "markdown",
   "id": "db239d27-09c3-4296-834a-31806093d755",
   "metadata": {},
   "source": [
    "# Train Test Split"
   ]
  },
  {
   "cell_type": "code",
   "execution_count": 81,
   "id": "69bacb97-c259-4fb2-961a-e7f920c45f9e",
   "metadata": {},
   "outputs": [],
   "source": [
    "from sklearn.model_selection import train_test_split"
   ]
  },
  {
   "cell_type": "code",
   "execution_count": 82,
   "id": "f9289683-5c3a-4bb9-b2fe-0aa420de2fed",
   "metadata": {},
   "outputs": [],
   "source": [
    "xtrain , xtest , ytrain, ytest = train_test_split(x,y,test_size=0.25,random_state=42)"
   ]
  },
  {
   "cell_type": "code",
   "execution_count": 83,
   "id": "dbd2b120-f596-4f98-8cf3-f97ab740fda2",
   "metadata": {},
   "outputs": [
    {
     "name": "stdout",
     "output_type": "stream",
     "text": [
      "xtrain: (4404, 1862)\n",
      "xtest: (1468, 1862)\n",
      "ytrain: (4404,)\n",
      "ytest: (1468,)\n"
     ]
    }
   ],
   "source": [
    "print(\"xtrain:\",xtrain.shape)\n",
    "print(\"xtest:\",xtest.shape)\n",
    "print(\"ytrain:\",ytrain.shape)\n",
    "print(\"ytest:\",ytest.shape)"
   ]
  },
  {
   "cell_type": "code",
   "execution_count": null,
   "id": "3e11384d-be1d-4398-9c50-e1a2435ca4ba",
   "metadata": {},
   "outputs": [],
   "source": []
  },
  {
   "cell_type": "markdown",
   "id": "0913bd0a-dbfd-4bba-b831-5e96b0cb729a",
   "metadata": {},
   "source": [
    "# LinearRegression"
   ]
  },
  {
   "cell_type": "code",
   "execution_count": 84,
   "id": "90bb34ef-55dc-48bc-beb4-abf37a1608fb",
   "metadata": {},
   "outputs": [],
   "source": [
    "from sklearn.linear_model import LinearRegression\n",
    "from sklearn.metrics import r2_score, mean_absolute_error, mean_squared_error"
   ]
  },
  {
   "cell_type": "code",
   "execution_count": 85,
   "id": "b3f2ac23-f569-4490-8899-ebe42aee9ebe",
   "metadata": {},
   "outputs": [],
   "source": [
    "model = LinearRegression()"
   ]
  },
  {
   "cell_type": "code",
   "execution_count": 86,
   "id": "27adb566-0e68-4fb4-93eb-be2517236314",
   "metadata": {},
   "outputs": [
    {
     "data": {
      "text/plain": [
       "LinearRegression()"
      ]
     },
     "execution_count": 86,
     "metadata": {},
     "output_type": "execute_result"
    }
   ],
   "source": [
    "model.fit(xtrain,ytrain)"
   ]
  },
  {
   "cell_type": "code",
   "execution_count": 87,
   "id": "1e95f377-f2c6-4139-8ced-3f4c682213d8",
   "metadata": {},
   "outputs": [],
   "source": [
    "score_LR = model.score(xtest,ytest)"
   ]
  },
  {
   "cell_type": "code",
   "execution_count": 88,
   "id": "a8a2bd1b-db80-4db8-b2c5-bbecb4cb99d6",
   "metadata": {},
   "outputs": [
    {
     "data": {
      "text/plain": [
       "-12228490425864.043"
      ]
     },
     "execution_count": 88,
     "metadata": {},
     "output_type": "execute_result"
    }
   ],
   "source": [
    "score_LR*100"
   ]
  },
  {
   "cell_type": "code",
   "execution_count": 89,
   "id": "4b485a9d-4e9a-4937-b3c7-08bb574581fe",
   "metadata": {},
   "outputs": [
    {
     "data": {
      "text/plain": [
       "96.83187514334506"
      ]
     },
     "execution_count": 89,
     "metadata": {},
     "output_type": "execute_result"
    }
   ],
   "source": [
    "score_LR_train = model.score(xtrain,ytrain)\n",
    "score_LR_train*100"
   ]
  },
  {
   "cell_type": "code",
   "execution_count": null,
   "id": "706f9f58-9aae-4ddc-bd7c-56b730a54c78",
   "metadata": {},
   "outputs": [],
   "source": []
  },
  {
   "cell_type": "code",
   "execution_count": 90,
   "id": "1fe5b945-aff5-4982-ad4c-2394b0eafe46",
   "metadata": {},
   "outputs": [],
   "source": [
    "y_pred_LR = model.predict(xtest)"
   ]
  },
  {
   "cell_type": "code",
   "execution_count": 91,
   "id": "c31f77b2-2279-4ef3-acfc-126a39b69e16",
   "metadata": {},
   "outputs": [
    {
     "data": {
      "text/plain": [
       "<matplotlib.collections.PathCollection at 0x7fef2f8f2880>"
      ]
     },
     "execution_count": 91,
     "metadata": {},
     "output_type": "execute_result"
    },
    {
     "data": {
      "image/png": "[encoded data removed]",
      "text/plain": [
       "<Figure size 432x288 with 1 Axes>"
      ]
     },
     "metadata": {},
     "output_type": "display_data"
    }
   ],
   "source": [
    "plt.scatter(ytest,y_pred_LR)"
   ]
  },
  {
   "cell_type": "code",
   "execution_count": 92,
   "id": "422991a8-b953-4126-a547-896537ccc056",
   "metadata": {},
   "outputs": [
    {
     "name": "stdout",
     "output_type": "stream",
     "text": [
      "mae: 633011.7311152952\n"
     ]
    }
   ],
   "source": [
    "print('mae:',mean_absolute_error(ytest,y_pred_LR))"
   ]
  },
  {
   "cell_type": "code",
   "execution_count": null,
   "id": "20782a05-8d9f-4d1d-aecf-b6fc290576f1",
   "metadata": {},
   "outputs": [],
   "source": []
  },
  {
   "cell_type": "markdown",
   "id": "2c818987-d8e1-4927-9914-f40273682ffc",
   "metadata": {},
   "source": [
    "# DecisionTreeRegressor"
   ]
  },
  {
   "cell_type": "code",
   "execution_count": 93,
   "id": "c95303a6-593c-4542-b043-98808efe1ca8",
   "metadata": {},
   "outputs": [],
   "source": [
    "from sklearn.tree import DecisionTreeRegressor\n",
    "model_dt = DecisionTreeRegressor()"
   ]
  },
  {
   "cell_type": "code",
   "execution_count": 94,
   "id": "f0dcf7a1-373d-41bc-946e-40b322aed54a",
   "metadata": {},
   "outputs": [],
   "source": [
    "model_dt = DecisionTreeRegressor()"
   ]
  },
  {
   "cell_type": "code",
   "execution_count": 95,
   "id": "2a102be0-5553-407f-84f4-5f72e943421a",
   "metadata": {},
   "outputs": [
    {
     "data": {
      "text/plain": [
       "DecisionTreeRegressor()"
      ]
     },
     "execution_count": 95,
     "metadata": {},
     "output_type": "execute_result"
    }
   ],
   "source": [
    "model_dt.fit(xtrain,ytrain)"
   ]
  },
  {
   "cell_type": "code",
   "execution_count": 96,
   "id": "44b4f9cf-c207-46da-b805-e8cf2994e960",
   "metadata": {},
   "outputs": [
    {
     "data": {
      "text/plain": [
       "75.08888752470514"
      ]
     },
     "execution_count": 96,
     "metadata": {},
     "output_type": "execute_result"
    }
   ],
   "source": [
    "score_dt = model_dt.score(xtest,ytest)\n",
    "score_dt*100"
   ]
  },
  {
   "cell_type": "code",
   "execution_count": 97,
   "id": "266d9526-3dfc-4901-a402-1cb0b25261d8",
   "metadata": {},
   "outputs": [
    {
     "data": {
      "text/plain": [
       "99.99966072186021"
      ]
     },
     "execution_count": 97,
     "metadata": {},
     "output_type": "execute_result"
    }
   ],
   "source": [
    "score_dt_train = model_dt.score(xtrain,ytrain)\n",
    "score_dt_train*100"
   ]
  },
  {
   "cell_type": "code",
   "execution_count": 98,
   "id": "ac3a8eb8-00a4-4a6f-a71a-62524bed0698",
   "metadata": {},
   "outputs": [],
   "source": [
    "y_pred_dt = model_dt.predict(xtest)"
   ]
  },
  {
   "cell_type": "code",
   "execution_count": 99,
   "id": "0bfd01e5-b7b2-4a7f-be62-4c5f3f007ced",
   "metadata": {},
   "outputs": [
    {
     "data": {
      "text/plain": [
       "<matplotlib.collections.PathCollection at 0x7fef2f508430>"
      ]
     },
     "execution_count": 99,
     "metadata": {},
     "output_type": "execute_result"
    },
    {
     "data": {
      "image/png": "[encoded data removed]",
      "text/plain": [
       "<Figure size 432x288 with 1 Axes>"
      ]
     },
     "metadata": {},
     "output_type": "display_data"
    }
   ],
   "source": [
    "plt.scatter(ytest,y_pred_dt)"
   ]
  },
  {
   "cell_type": "code",
   "execution_count": null,
   "id": "f1ffb4fe-3fae-40fb-8f66-66b9c19779ec",
   "metadata": {},
   "outputs": [],
   "source": []
  },
  {
   "cell_type": "markdown",
   "id": "171b1016-d245-446e-b53a-8237e954a329",
   "metadata": {},
   "source": [
    "# RandomForestRegressor"
   ]
  },
  {
   "cell_type": "code",
   "execution_count": 100,
   "id": "1aaa2ec2-9297-4285-b388-f593fafa82aa",
   "metadata": {},
   "outputs": [],
   "source": [
    "from sklearn.ensemble import RandomForestRegressor"
   ]
  },
  {
   "cell_type": "code",
   "execution_count": 101,
   "id": "a89d5152-4e67-4b16-957c-05cf21072c7e",
   "metadata": {},
   "outputs": [],
   "source": [
    "model_rf = RandomForestRegressor()"
   ]
  },
  {
   "cell_type": "code",
   "execution_count": 102,
   "id": "4a233eb3-3991-469a-8df3-9abf406e17a7",
   "metadata": {},
   "outputs": [
    {
     "data": {
      "text/plain": [
       "RandomForestRegressor()"
      ]
     },
     "execution_count": 102,
     "metadata": {},
     "output_type": "execute_result"
    }
   ],
   "source": [
    "model_rf.fit(xtrain,ytrain)"
   ]
  },
  {
   "cell_type": "code",
   "execution_count": 103,
   "id": "4ffde9a6-1222-441f-a2cc-1bc6cb3e371d",
   "metadata": {},
   "outputs": [
    {
     "data": {
      "text/plain": [
       "88.45058191653922"
      ]
     },
     "execution_count": 103,
     "metadata": {},
     "output_type": "execute_result"
    }
   ],
   "source": [
    "score_rf = model_rf.score(xtest,ytest)\n",
    "score_rf*100"
   ]
  },
  {
   "cell_type": "code",
   "execution_count": 104,
   "id": "9472a935-e871-44d2-b7b7-0ef0ec9cf3df",
   "metadata": {},
   "outputs": [
    {
     "data": {
      "text/plain": [
       "98.68666673543811"
      ]
     },
     "execution_count": 104,
     "metadata": {},
     "output_type": "execute_result"
    }
   ],
   "source": [
    "score_rf_train = model_rf.score(xtrain,ytrain)\n",
    "score_rf_train*100"
   ]
  },
  {
   "cell_type": "code",
   "execution_count": 105,
   "id": "1cb5bd7d-3d41-416b-8b92-ca67d2f2bf26",
   "metadata": {},
   "outputs": [],
   "source": [
    "y_pred_rf = model_rf.predict(xtest)"
   ]
  },
  {
   "cell_type": "code",
   "execution_count": 106,
   "id": "deb2cc3a-1b4a-4725-9d10-6e94c94b9771",
   "metadata": {},
   "outputs": [
    {
     "data": {
      "text/plain": [
       "<matplotlib.collections.PathCollection at 0x7fef2f42cd60>"
      ]
     },
     "execution_count": 106,
     "metadata": {},
     "output_type": "execute_result"
    },
    {
     "data": {
      "image/png": "[encoded data removed]",
      "text/plain": [
       "<Figure size 432x288 with 1 Axes>"
      ]
     },
     "metadata": {},
     "output_type": "display_data"
    }
   ],
   "source": [
    "plt.scatter(ytest,y_pred_rf)"
   ]
  },
  {
   "cell_type": "code",
   "execution_count": null,
   "id": "eaf33ae7-56de-4167-9071-a87b20024a1d",
   "metadata": {},
   "outputs": [],
   "source": []
  },
  {
   "cell_type": "code",
   "execution_count": null,
   "id": "1560c0a9-dda1-4204-9218-8c249cf8cdd4",
   "metadata": {},
   "outputs": [],
   "source": []
  },
  {
   "cell_type": "markdown",
   "id": "3116d327-558c-486b-8775-d67c071b354c",
   "metadata": {},
   "source": [
    "# XGBRegressor"
   ]
  },
  {
   "cell_type": "code",
   "execution_count": 107,
   "id": "5aa8759a-e0ca-4486-b97a-7d5a3c488dc9",
   "metadata": {},
   "outputs": [],
   "source": [
    "from xgboost.sklearn import XGBRegressor"
   ]
  },
  {
   "cell_type": "code",
   "execution_count": 108,
   "id": "b2df9cbf-2e27-4e4c-9afd-9c3f3fde5e49",
   "metadata": {},
   "outputs": [],
   "source": [
    "xg_regressor = XGBRegressor()"
   ]
  },
  {
   "cell_type": "code",
   "execution_count": 109,
   "id": "29427f22-2313-453c-9f70-1a3fcfcf4664",
   "metadata": {},
   "outputs": [
    {
     "data": {
      "text/plain": [
       "XGBRegressor(base_score=0.5, booster='gbtree', callbacks=None,\n",
       "             colsample_bylevel=1, colsample_bynode=1, colsample_bytree=1,\n",
       "             early_stopping_rounds=None, enable_categorical=False,\n",
       "             eval_metric=None, gamma=0, gpu_id=-1, grow_policy='depthwise',\n",
       "             importance_type=None, interaction_constraints='',\n",
       "             learning_rate=0.300000012, max_bin=256, max_cat_to_onehot=4,\n",
       "             max_delta_step=0, max_depth=6, max_leaves=0, min_child_weight=1,\n",
       "             missing=nan, monotone_constraints='()', n_estimators=100, n_jobs=0,\n",
       "             num_parallel_tree=1, predictor='auto', random_state=0, reg_alpha=0,\n",
       "             reg_lambda=1, ...)"
      ]
     },
     "execution_count": 109,
     "metadata": {},
     "output_type": "execute_result"
    }
   ],
   "source": [
    "xg_regressor.fit(xtrain,ytrain)"
   ]
  },
  {
   "cell_type": "code",
   "execution_count": 110,
   "id": "1493b0f6-e9a7-4cba-9acc-83f7f6c682b1",
   "metadata": {},
   "outputs": [
    {
     "data": {
      "text/plain": [
       "89.30579739120783"
      ]
     },
     "execution_count": 110,
     "metadata": {},
     "output_type": "execute_result"
    }
   ],
   "source": [
    "xg_score = xg_regressor.score(xtest,ytest)\n",
    "xg_score*100"
   ]
  },
  {
   "cell_type": "code",
   "execution_count": 111,
   "id": "83e2bc0f-108e-483e-bc3c-b04b3ae10d27",
   "metadata": {},
   "outputs": [],
   "source": [
    "y_pred_xg = xg_regressor.predict(xtest)"
   ]
  },
  {
   "cell_type": "code",
   "execution_count": 112,
   "id": "fe542ac0-6ad8-4c15-a45f-1d77f092f8b8",
   "metadata": {},
   "outputs": [
    {
     "data": {
      "text/plain": [
       "89.30579739120783"
      ]
     },
     "execution_count": 112,
     "metadata": {},
     "output_type": "execute_result"
    }
   ],
   "source": [
    "r2_score(ytest,y_pred_xg)*100"
   ]
  },
  {
   "cell_type": "code",
   "execution_count": 113,
   "id": "3b77d1a3-0f99-4cf6-a8c4-be26bf17e862",
   "metadata": {},
   "outputs": [
    {
     "data": {
      "text/plain": [
       "<matplotlib.collections.PathCollection at 0x7fef2f0be160>"
      ]
     },
     "execution_count": 113,
     "metadata": {},
     "output_type": "execute_result"
    },
    {
     "data": {
      "image/png": "[encoded data removed]",
      "text/plain": [
       "<Figure size 576x432 with 1 Axes>"
      ]
     },
     "metadata": {},
     "output_type": "display_data"
    }
   ],
   "source": [
    "figure = plt.figure(figsize=(8,6))\n",
    "plt.scatter(ytest,y_pred_xg)"
   ]
  },
  {
   "cell_type": "code",
   "execution_count": null,
   "id": "ff475dd8-24ed-4526-99db-8c11190a4a82",
   "metadata": {},
   "outputs": [],
   "source": []
  },
  {
   "cell_type": "markdown",
   "id": "2ef01be5-9473-47cd-803a-0f01382350cb",
   "metadata": {},
   "source": [
    "# GradientBoostingRegressor"
   ]
  },
  {
   "cell_type": "code",
   "execution_count": 114,
   "id": "79adae48-6898-4c3e-951c-659d0859ad98",
   "metadata": {},
   "outputs": [],
   "source": [
    "from sklearn.ensemble import GradientBoostingRegressor"
   ]
  },
  {
   "cell_type": "code",
   "execution_count": 115,
   "id": "49b50a28-912a-42f3-8168-f8391d1b0216",
   "metadata": {},
   "outputs": [],
   "source": [
    "gb_model = GradientBoostingRegressor()"
   ]
  },
  {
   "cell_type": "code",
   "execution_count": 116,
   "id": "3272abf4-f859-40df-91c0-2b833d79b60c",
   "metadata": {},
   "outputs": [
    {
     "data": {
      "text/plain": [
       "GradientBoostingRegressor()"
      ]
     },
     "execution_count": 116,
     "metadata": {},
     "output_type": "execute_result"
    }
   ],
   "source": [
    "gb_model.fit(xtrain,ytrain)"
   ]
  },
  {
   "cell_type": "code",
   "execution_count": 117,
   "id": "c7f92737-083c-4230-894e-941a494174a5",
   "metadata": {},
   "outputs": [
    {
     "data": {
      "text/plain": [
       "87.68168932056861"
      ]
     },
     "execution_count": 117,
     "metadata": {},
     "output_type": "execute_result"
    }
   ],
   "source": [
    "gb_score = gb_model.score(xtest,ytest)\n",
    "gb_score*100"
   ]
  },
  {
   "cell_type": "code",
   "execution_count": 118,
   "id": "c677aee2-c39f-4a78-b800-7c63ba02b475",
   "metadata": {},
   "outputs": [
    {
     "data": {
      "text/plain": [
       "94.6329544753922"
      ]
     },
     "execution_count": 118,
     "metadata": {},
     "output_type": "execute_result"
    }
   ],
   "source": [
    "gb_score_train = gb_model.score(xtrain,ytrain)\n",
    "gb_score_train*100"
   ]
  },
  {
   "cell_type": "code",
   "execution_count": 119,
   "id": "bfc83b1f-46f6-441d-82ea-7a5cc058e754",
   "metadata": {},
   "outputs": [],
   "source": [
    "y_pred_gb = gb_model.predict(xtest)"
   ]
  },
  {
   "cell_type": "code",
   "execution_count": 120,
   "id": "f7a677ea-4e27-4336-aae0-551733875380",
   "metadata": {},
   "outputs": [
    {
     "data": {
      "text/plain": [
       "<matplotlib.collections.PathCollection at 0x7fef34ad0a60>"
      ]
     },
     "execution_count": 120,
     "metadata": {},
     "output_type": "execute_result"
    },
    {
     "data": {
      "image/png": "[encoded data removed]",
      "text/plain": [
       "<Figure size 576x432 with 1 Axes>"
      ]
     },
     "metadata": {},
     "output_type": "display_data"
    }
   ],
   "source": [
    "figure = plt.figure(figsize=(8,6))\n",
    "plt.scatter(ytest,y_pred_gb)"
   ]
  },
  {
   "cell_type": "code",
   "execution_count": null,
   "id": "045fe482-71cc-4509-8b13-b4a8e62f5cbd",
   "metadata": {},
   "outputs": [],
   "source": []
  },
  {
   "cell_type": "code",
   "execution_count": null,
   "id": "04ed43eb-5d09-40b9-9bdf-73e08415d53c",
   "metadata": {},
   "outputs": [],
   "source": []
  },
  {
   "cell_type": "code",
   "execution_count": null,
   "id": "0a8da3c3-324e-4963-822b-8723faa8930c",
   "metadata": {},
   "outputs": [],
   "source": []
  },
  {
   "cell_type": "code",
   "execution_count": null,
   "id": "d9e25053-1e80-4782-ae0b-333b3c044a13",
   "metadata": {},
   "outputs": [],
   "source": []
  },
  {
   "cell_type": "code",
   "execution_count": null,
   "id": "acc03eb5-5a9b-4582-a40e-92d6faeb3c67",
   "metadata": {},
   "outputs": [],
   "source": []
  },
  {
   "cell_type": "code",
   "execution_count": null,
   "id": "81516621-7325-4e26-97b3-e22a815dfb04",
   "metadata": {},
   "outputs": [],
   "source": []
  },
  {
   "cell_type": "code",
   "execution_count": null,
   "id": "112158d2-be7a-4f8a-9f97-99e01b9def4e",
   "metadata": {},
   "outputs": [],
   "source": []
  },
  {
   "cell_type": "code",
   "execution_count": 121,
   "id": "96d81428-60ea-4c9e-a83d-4a71a5863a81",
   "metadata": {},
   "outputs": [],
   "source": [
    "# imp = pd.Series(model_rf.feature_importances_,index=x.columns).sort_values()\n",
    "# plt.figure(figsize=(12,16))\n",
    "# imp.plot.barh()\n",
    "# plt.show()"
   ]
  },
  {
   "cell_type": "code",
   "execution_count": null,
   "id": "7b24aea3-e740-4be3-b062-0554ddd69352",
   "metadata": {},
   "outputs": [],
   "source": []
  },
  {
   "cell_type": "code",
   "execution_count": 122,
   "id": "6bbb9e14-2f4f-477b-8576-2d2b6ca5431e",
   "metadata": {},
   "outputs": [],
   "source": [
    "# pd.to_pickle(model_rf,'Sell-Used-Car.pkl')"
   ]
  },
  {
   "cell_type": "code",
   "execution_count": null,
   "id": "93118b1c-794f-40ea-ab06-6d8c1f4b7233",
   "metadata": {},
   "outputs": [],
   "source": []
  }
 ],
 "metadata": {
  "kernelspec": {
   "display_name": "Python 3 (ipykernel)",
   "language": "python",
   "name": "python3"
  },
  "language_info": {
   "codemirror_mode": {
    "name": "ipython",
    "version": 3
   },
   "file_extension": ".py",
   "mimetype": "text/x-python",
   "name": "python",
   "nbconvert_exporter": "python",
   "pygments_lexer": "ipython3",
   "version": "3.8.8"
  }
 },
 "nbformat": 4,
 "nbformat_minor": 5
}
